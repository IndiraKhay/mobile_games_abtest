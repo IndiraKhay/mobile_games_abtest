{
 "cells": [
  {
   "cell_type": "markdown",
   "metadata": {},
   "source": [
    "# Проект: Мобильные игры   \n",
    "## 1 вариант\n",
    "Представьте, что вы работаете в компании, которая разрабатывает мобильные игры. К вам пришел менеджер с рядом задач по исследованию нескольких аспектов мобильного приложения:  \n",
    "1.В первую очередь, его интересует показатель retention. Напишите функцию для его подсчета.  \n",
    "2.Помимо этого, в компании провели A/B тестирование наборов акционных предложений. На основе имеющихся данных определите, какой набор можно считать лучшим и на основе каких метрик стоит принять правильное решение.  \n",
    "3.Предложите метрики для оценки результатов последнего прошедшего тематического события в игре.\n",
    " \n"
   ]
  },
  {
   "cell_type": "markdown",
   "metadata": {},
   "source": [
    "### 1 Задание  \n",
    "Провожу предварительный анализ данных.\n",
    "Импортирую библиотеки"
   ]
  },
  {
   "cell_type": "code",
   "execution_count": 1,
   "metadata": {},
   "outputs": [],
   "source": [
    "import pandas as pd\n",
    "import numpy as np\n",
    "from datetime import date,timedelta\n",
    "import seaborn as sns\n",
    "import matplotlib\n",
    "import matplotlib.pyplot as plt\n",
    "import scipy.stats as st\n",
    "import statsmodels.stats.proportion as smp\n",
    "import pingouin as pg\n"
   ]
  },
  {
   "cell_type": "code",
   "execution_count": 2,
   "metadata": {},
   "outputs": [
    {
     "name": "stderr",
     "output_type": "stream",
     "text": [
      "/opt/tljh/user/lib/python3.7/site-packages/outdated/utils.py:18: OutdatedCacheFailedWarning: Failed to use cache while checking for outdated package.\n",
      "Set the environment variable OUTDATED_RAISE_EXCEPTION=1 for a full traceback.\n",
      "Set the environment variable OUTDATED_IGNORE=1 to disable these warnings.\n",
      "  **kwargs\n",
      "/opt/tljh/user/lib/python3.7/site-packages/outdated/utils.py:18: OutdatedPackageWarning: The package outdated is out of date. Your version is 0.2.1, the latest is 0.2.2.\n",
      "Set the environment variable OUTDATED_IGNORE=1 to disable these warnings.\n",
      "  **kwargs\n"
     ]
    }
   ],
   "source": [
    "reg_data = pd.read_csv('~/shared/problem1-reg_data.csv', sep=';')"
   ]
  },
  {
   "cell_type": "code",
   "execution_count": 3,
   "metadata": {},
   "outputs": [
    {
     "name": "stdout",
     "output_type": "stream",
     "text": [
      "<class 'pandas.core.frame.DataFrame'>\n",
      "RangeIndex: 1000000 entries, 0 to 999999\n",
      "Data columns (total 2 columns):\n",
      " #   Column  Non-Null Count    Dtype\n",
      "---  ------  --------------    -----\n",
      " 0   reg_ts  1000000 non-null  int64\n",
      " 1   uid     1000000 non-null  int64\n",
      "dtypes: int64(2)\n",
      "memory usage: 15.3 MB\n"
     ]
    }
   ],
   "source": [
    "reg_data.info()"
   ]
  },
  {
   "cell_type": "code",
   "execution_count": 4,
   "metadata": {},
   "outputs": [
    {
     "data": {
      "text/html": [
       "<div>\n",
       "<style scoped>\n",
       "    .dataframe tbody tr th:only-of-type {\n",
       "        vertical-align: middle;\n",
       "    }\n",
       "\n",
       "    .dataframe tbody tr th {\n",
       "        vertical-align: top;\n",
       "    }\n",
       "\n",
       "    .dataframe thead th {\n",
       "        text-align: right;\n",
       "    }\n",
       "</style>\n",
       "<table border=\"1\" class=\"dataframe\">\n",
       "  <thead>\n",
       "    <tr style=\"text-align: right;\">\n",
       "      <th></th>\n",
       "      <th>reg_ts</th>\n",
       "      <th>uid</th>\n",
       "    </tr>\n",
       "  </thead>\n",
       "  <tbody>\n",
       "    <tr>\n",
       "      <th>0</th>\n",
       "      <td>911382223</td>\n",
       "      <td>1</td>\n",
       "    </tr>\n",
       "    <tr>\n",
       "      <th>1</th>\n",
       "      <td>932683089</td>\n",
       "      <td>2</td>\n",
       "    </tr>\n",
       "    <tr>\n",
       "      <th>2</th>\n",
       "      <td>947802447</td>\n",
       "      <td>3</td>\n",
       "    </tr>\n",
       "    <tr>\n",
       "      <th>3</th>\n",
       "      <td>959523541</td>\n",
       "      <td>4</td>\n",
       "    </tr>\n",
       "    <tr>\n",
       "      <th>4</th>\n",
       "      <td>969103313</td>\n",
       "      <td>5</td>\n",
       "    </tr>\n",
       "  </tbody>\n",
       "</table>\n",
       "</div>"
      ],
      "text/plain": [
       "      reg_ts  uid\n",
       "0  911382223    1\n",
       "1  932683089    2\n",
       "2  947802447    3\n",
       "3  959523541    4\n",
       "4  969103313    5"
      ]
     },
     "execution_count": 4,
     "metadata": {},
     "output_type": "execute_result"
    }
   ],
   "source": [
    "reg_data.head()"
   ]
  },
  {
   "cell_type": "code",
   "execution_count": 5,
   "metadata": {},
   "outputs": [
    {
     "name": "stderr",
     "output_type": "stream",
     "text": [
      "/opt/tljh/user/lib/python3.7/site-packages/outdated/utils.py:18: OutdatedCacheFailedWarning: Failed to use cache while checking for outdated package.\n",
      "Set the environment variable OUTDATED_RAISE_EXCEPTION=1 for a full traceback.\n",
      "Set the environment variable OUTDATED_IGNORE=1 to disable these warnings.\n",
      "  **kwargs\n",
      "/opt/tljh/user/lib/python3.7/site-packages/outdated/utils.py:18: OutdatedPackageWarning: The package pingouin is out of date. Your version is 0.4.0, the latest is 0.5.5.\n",
      "Set the environment variable OUTDATED_IGNORE=1 to disable these warnings.\n",
      "  **kwargs\n"
     ]
    },
    {
     "data": {
      "text/plain": [
       "0"
      ]
     },
     "execution_count": 5,
     "metadata": {},
     "output_type": "execute_result"
    }
   ],
   "source": [
    "reg_data.duplicated().sum()"
   ]
  },
  {
   "cell_type": "markdown",
   "metadata": {},
   "source": [
    "#### Вывод на основе первичного рассматрения данных: \n",
    "1) В датасете reg_data 1000000 строк и 2 столбца. Нет дубликатов и пропущенных значений  \n",
    "2) Необходимо перевести дату в удобный формат"
   ]
  },
  {
   "cell_type": "code",
   "execution_count": 6,
   "metadata": {},
   "outputs": [
    {
     "data": {
      "text/html": [
       "<div>\n",
       "<style scoped>\n",
       "    .dataframe tbody tr th:only-of-type {\n",
       "        vertical-align: middle;\n",
       "    }\n",
       "\n",
       "    .dataframe tbody tr th {\n",
       "        vertical-align: top;\n",
       "    }\n",
       "\n",
       "    .dataframe thead th {\n",
       "        text-align: right;\n",
       "    }\n",
       "</style>\n",
       "<table border=\"1\" class=\"dataframe\">\n",
       "  <thead>\n",
       "    <tr style=\"text-align: right;\">\n",
       "      <th></th>\n",
       "      <th>reg_ts</th>\n",
       "      <th>uid</th>\n",
       "    </tr>\n",
       "  </thead>\n",
       "  <tbody>\n",
       "    <tr>\n",
       "      <th>0</th>\n",
       "      <td>1998-11-18 09:43:43</td>\n",
       "      <td>1</td>\n",
       "    </tr>\n",
       "    <tr>\n",
       "      <th>1</th>\n",
       "      <td>1999-07-22 22:38:09</td>\n",
       "      <td>2</td>\n",
       "    </tr>\n",
       "    <tr>\n",
       "      <th>2</th>\n",
       "      <td>2000-01-13 22:27:27</td>\n",
       "      <td>3</td>\n",
       "    </tr>\n",
       "    <tr>\n",
       "      <th>3</th>\n",
       "      <td>2000-05-28 14:19:01</td>\n",
       "      <td>4</td>\n",
       "    </tr>\n",
       "    <tr>\n",
       "      <th>4</th>\n",
       "      <td>2000-09-16 11:21:53</td>\n",
       "      <td>5</td>\n",
       "    </tr>\n",
       "  </tbody>\n",
       "</table>\n",
       "</div>"
      ],
      "text/plain": [
       "               reg_ts  uid\n",
       "0 1998-11-18 09:43:43    1\n",
       "1 1999-07-22 22:38:09    2\n",
       "2 2000-01-13 22:27:27    3\n",
       "3 2000-05-28 14:19:01    4\n",
       "4 2000-09-16 11:21:53    5"
      ]
     },
     "execution_count": 6,
     "metadata": {},
     "output_type": "execute_result"
    }
   ],
   "source": [
    "reg_data['reg_ts'] = pd.to_datetime(reg_data['reg_ts'], unit='s')\n",
    "reg_data.head()"
   ]
  },
  {
   "cell_type": "code",
   "execution_count": 7,
   "metadata": {},
   "outputs": [
    {
     "data": {
      "text/html": [
       "<div>\n",
       "<style scoped>\n",
       "    .dataframe tbody tr th:only-of-type {\n",
       "        vertical-align: middle;\n",
       "    }\n",
       "\n",
       "    .dataframe tbody tr th {\n",
       "        vertical-align: top;\n",
       "    }\n",
       "\n",
       "    .dataframe thead th {\n",
       "        text-align: right;\n",
       "    }\n",
       "</style>\n",
       "<table border=\"1\" class=\"dataframe\">\n",
       "  <thead>\n",
       "    <tr style=\"text-align: right;\">\n",
       "      <th></th>\n",
       "      <th>reg_ts</th>\n",
       "      <th>uid</th>\n",
       "    </tr>\n",
       "  </thead>\n",
       "  <tbody>\n",
       "    <tr>\n",
       "      <th>count</th>\n",
       "      <td>1000000</td>\n",
       "      <td>1.000000e+06</td>\n",
       "    </tr>\n",
       "    <tr>\n",
       "      <th>mean</th>\n",
       "      <td>2019-01-24 12:12:34.523666688</td>\n",
       "      <td>5.552354e+05</td>\n",
       "    </tr>\n",
       "    <tr>\n",
       "      <th>min</th>\n",
       "      <td>1998-11-18 09:43:43</td>\n",
       "      <td>1.000000e+00</td>\n",
       "    </tr>\n",
       "    <tr>\n",
       "      <th>25%</th>\n",
       "      <td>2018-06-03 13:55:11.500000</td>\n",
       "      <td>2.776438e+05</td>\n",
       "    </tr>\n",
       "    <tr>\n",
       "      <th>50%</th>\n",
       "      <td>2019-07-30 02:35:25</td>\n",
       "      <td>5.550455e+05</td>\n",
       "    </tr>\n",
       "    <tr>\n",
       "      <th>75%</th>\n",
       "      <td>2020-04-01 16:28:40.500000</td>\n",
       "      <td>8.329712e+05</td>\n",
       "    </tr>\n",
       "    <tr>\n",
       "      <th>max</th>\n",
       "      <td>2020-09-23 15:17:24</td>\n",
       "      <td>1.110622e+06</td>\n",
       "    </tr>\n",
       "    <tr>\n",
       "      <th>std</th>\n",
       "      <td>NaN</td>\n",
       "      <td>3.206011e+05</td>\n",
       "    </tr>\n",
       "  </tbody>\n",
       "</table>\n",
       "</div>"
      ],
      "text/plain": [
       "                              reg_ts           uid\n",
       "count                        1000000  1.000000e+06\n",
       "mean   2019-01-24 12:12:34.523666688  5.552354e+05\n",
       "min              1998-11-18 09:43:43  1.000000e+00\n",
       "25%       2018-06-03 13:55:11.500000  2.776438e+05\n",
       "50%              2019-07-30 02:35:25  5.550455e+05\n",
       "75%       2020-04-01 16:28:40.500000  8.329712e+05\n",
       "max              2020-09-23 15:17:24  1.110622e+06\n",
       "std                              NaN  3.206011e+05"
      ]
     },
     "execution_count": 7,
     "metadata": {},
     "output_type": "execute_result"
    }
   ],
   "source": [
    "reg_data.describe(include='all', datetime_is_numeric=True)"
   ]
  },
  {
   "cell_type": "markdown",
   "metadata": {},
   "source": [
    "В данном датасете у нас данные с 1998 года по 2020 год. Данных достаточно много, для выполнения задания стоит заложить возможность ограничения при подсчете ретеншена по минимальной и максимальной дате регистрации, для более быстрого подсчета."
   ]
  },
  {
   "cell_type": "code",
   "execution_count": 8,
   "metadata": {},
   "outputs": [],
   "source": [
    "auth_data = pd.read_csv('~/shared/problem1-auth_data.csv', sep=';')"
   ]
  },
  {
   "cell_type": "code",
   "execution_count": 9,
   "metadata": {},
   "outputs": [
    {
     "name": "stdout",
     "output_type": "stream",
     "text": [
      "<class 'pandas.core.frame.DataFrame'>\n",
      "RangeIndex: 9601013 entries, 0 to 9601012\n",
      "Data columns (total 2 columns):\n",
      " #   Column   Dtype\n",
      "---  ------   -----\n",
      " 0   auth_ts  int64\n",
      " 1   uid      int64\n",
      "dtypes: int64(2)\n",
      "memory usage: 146.5 MB\n"
     ]
    }
   ],
   "source": [
    "auth_data.info()"
   ]
  },
  {
   "cell_type": "code",
   "execution_count": 10,
   "metadata": {},
   "outputs": [
    {
     "data": {
      "text/html": [
       "<div>\n",
       "<style scoped>\n",
       "    .dataframe tbody tr th:only-of-type {\n",
       "        vertical-align: middle;\n",
       "    }\n",
       "\n",
       "    .dataframe tbody tr th {\n",
       "        vertical-align: top;\n",
       "    }\n",
       "\n",
       "    .dataframe thead th {\n",
       "        text-align: right;\n",
       "    }\n",
       "</style>\n",
       "<table border=\"1\" class=\"dataframe\">\n",
       "  <thead>\n",
       "    <tr style=\"text-align: right;\">\n",
       "      <th></th>\n",
       "      <th>auth_ts</th>\n",
       "      <th>uid</th>\n",
       "    </tr>\n",
       "  </thead>\n",
       "  <tbody>\n",
       "    <tr>\n",
       "      <th>0</th>\n",
       "      <td>911382223</td>\n",
       "      <td>1</td>\n",
       "    </tr>\n",
       "    <tr>\n",
       "      <th>1</th>\n",
       "      <td>932683089</td>\n",
       "      <td>2</td>\n",
       "    </tr>\n",
       "    <tr>\n",
       "      <th>2</th>\n",
       "      <td>932921206</td>\n",
       "      <td>2</td>\n",
       "    </tr>\n",
       "    <tr>\n",
       "      <th>3</th>\n",
       "      <td>933393015</td>\n",
       "      <td>2</td>\n",
       "    </tr>\n",
       "    <tr>\n",
       "      <th>4</th>\n",
       "      <td>933875379</td>\n",
       "      <td>2</td>\n",
       "    </tr>\n",
       "  </tbody>\n",
       "</table>\n",
       "</div>"
      ],
      "text/plain": [
       "     auth_ts  uid\n",
       "0  911382223    1\n",
       "1  932683089    2\n",
       "2  932921206    2\n",
       "3  933393015    2\n",
       "4  933875379    2"
      ]
     },
     "execution_count": 10,
     "metadata": {},
     "output_type": "execute_result"
    }
   ],
   "source": [
    "auth_data.head()"
   ]
  },
  {
   "cell_type": "code",
   "execution_count": 11,
   "metadata": {},
   "outputs": [
    {
     "data": {
      "text/plain": [
       "0"
      ]
     },
     "execution_count": 11,
     "metadata": {},
     "output_type": "execute_result"
    }
   ],
   "source": [
    "auth_data.duplicated().sum()"
   ]
  },
  {
   "cell_type": "markdown",
   "metadata": {},
   "source": [
    "##### Вывод на основе первичного рассматрения данных:\n",
    "1) В датасете auth_data 9601013 строк и 2 столбца. Нет дубликатов и пропущенных значений  \n",
    "2) Необходимо перевести дату в удобный формат"
   ]
  },
  {
   "cell_type": "code",
   "execution_count": 12,
   "metadata": {},
   "outputs": [
    {
     "data": {
      "text/html": [
       "<div>\n",
       "<style scoped>\n",
       "    .dataframe tbody tr th:only-of-type {\n",
       "        vertical-align: middle;\n",
       "    }\n",
       "\n",
       "    .dataframe tbody tr th {\n",
       "        vertical-align: top;\n",
       "    }\n",
       "\n",
       "    .dataframe thead th {\n",
       "        text-align: right;\n",
       "    }\n",
       "</style>\n",
       "<table border=\"1\" class=\"dataframe\">\n",
       "  <thead>\n",
       "    <tr style=\"text-align: right;\">\n",
       "      <th></th>\n",
       "      <th>auth_ts</th>\n",
       "      <th>uid</th>\n",
       "    </tr>\n",
       "  </thead>\n",
       "  <tbody>\n",
       "    <tr>\n",
       "      <th>0</th>\n",
       "      <td>1998-11-18 09:43:43</td>\n",
       "      <td>1</td>\n",
       "    </tr>\n",
       "    <tr>\n",
       "      <th>1</th>\n",
       "      <td>1999-07-22 22:38:09</td>\n",
       "      <td>2</td>\n",
       "    </tr>\n",
       "    <tr>\n",
       "      <th>2</th>\n",
       "      <td>1999-07-25 16:46:46</td>\n",
       "      <td>2</td>\n",
       "    </tr>\n",
       "    <tr>\n",
       "      <th>3</th>\n",
       "      <td>1999-07-31 03:50:15</td>\n",
       "      <td>2</td>\n",
       "    </tr>\n",
       "    <tr>\n",
       "      <th>4</th>\n",
       "      <td>1999-08-05 17:49:39</td>\n",
       "      <td>2</td>\n",
       "    </tr>\n",
       "  </tbody>\n",
       "</table>\n",
       "</div>"
      ],
      "text/plain": [
       "              auth_ts  uid\n",
       "0 1998-11-18 09:43:43    1\n",
       "1 1999-07-22 22:38:09    2\n",
       "2 1999-07-25 16:46:46    2\n",
       "3 1999-07-31 03:50:15    2\n",
       "4 1999-08-05 17:49:39    2"
      ]
     },
     "execution_count": 12,
     "metadata": {},
     "output_type": "execute_result"
    }
   ],
   "source": [
    "auth_data['auth_ts'] = pd.to_datetime(auth_data['auth_ts'], unit='s')\n",
    "auth_data.head()"
   ]
  },
  {
   "cell_type": "code",
   "execution_count": 13,
   "metadata": {},
   "outputs": [
    {
     "data": {
      "text/html": [
       "<div>\n",
       "<style scoped>\n",
       "    .dataframe tbody tr th:only-of-type {\n",
       "        vertical-align: middle;\n",
       "    }\n",
       "\n",
       "    .dataframe tbody tr th {\n",
       "        vertical-align: top;\n",
       "    }\n",
       "\n",
       "    .dataframe thead th {\n",
       "        text-align: right;\n",
       "    }\n",
       "</style>\n",
       "<table border=\"1\" class=\"dataframe\">\n",
       "  <thead>\n",
       "    <tr style=\"text-align: right;\">\n",
       "      <th></th>\n",
       "      <th>auth_ts</th>\n",
       "      <th>uid</th>\n",
       "    </tr>\n",
       "  </thead>\n",
       "  <tbody>\n",
       "    <tr>\n",
       "      <th>count</th>\n",
       "      <td>9601013</td>\n",
       "      <td>9.601013e+06</td>\n",
       "    </tr>\n",
       "    <tr>\n",
       "      <th>mean</th>\n",
       "      <td>2019-01-29 16:12:06.254851584</td>\n",
       "      <td>3.347198e+05</td>\n",
       "    </tr>\n",
       "    <tr>\n",
       "      <th>min</th>\n",
       "      <td>1998-11-18 09:43:43</td>\n",
       "      <td>1.000000e+00</td>\n",
       "    </tr>\n",
       "    <tr>\n",
       "      <th>25%</th>\n",
       "      <td>2018-06-07 12:40:47</td>\n",
       "      <td>9.599700e+04</td>\n",
       "    </tr>\n",
       "    <tr>\n",
       "      <th>50%</th>\n",
       "      <td>2019-07-31 12:43:16</td>\n",
       "      <td>2.579210e+05</td>\n",
       "    </tr>\n",
       "    <tr>\n",
       "      <th>75%</th>\n",
       "      <td>2020-04-02 10:25:21</td>\n",
       "      <td>5.190250e+05</td>\n",
       "    </tr>\n",
       "    <tr>\n",
       "      <th>max</th>\n",
       "      <td>2020-09-23 15:17:24</td>\n",
       "      <td>1.110622e+06</td>\n",
       "    </tr>\n",
       "    <tr>\n",
       "      <th>std</th>\n",
       "      <td>NaN</td>\n",
       "      <td>2.832669e+05</td>\n",
       "    </tr>\n",
       "  </tbody>\n",
       "</table>\n",
       "</div>"
      ],
      "text/plain": [
       "                             auth_ts           uid\n",
       "count                        9601013  9.601013e+06\n",
       "mean   2019-01-29 16:12:06.254851584  3.347198e+05\n",
       "min              1998-11-18 09:43:43  1.000000e+00\n",
       "25%              2018-06-07 12:40:47  9.599700e+04\n",
       "50%              2019-07-31 12:43:16  2.579210e+05\n",
       "75%              2020-04-02 10:25:21  5.190250e+05\n",
       "max              2020-09-23 15:17:24  1.110622e+06\n",
       "std                              NaN  2.832669e+05"
      ]
     },
     "execution_count": 13,
     "metadata": {},
     "output_type": "execute_result"
    }
   ],
   "source": [
    "auth_data.describe(include='all', datetime_is_numeric=True)"
   ]
  },
  {
   "cell_type": "markdown",
   "metadata": {},
   "source": [
    "Данные в таблице захода в игру соответсвуют данным в таблице регистрации, поэтому соединим два датасета по uid."
   ]
  },
  {
   "cell_type": "code",
   "execution_count": 14,
   "metadata": {},
   "outputs": [
    {
     "data": {
      "text/html": [
       "<div>\n",
       "<style scoped>\n",
       "    .dataframe tbody tr th:only-of-type {\n",
       "        vertical-align: middle;\n",
       "    }\n",
       "\n",
       "    .dataframe tbody tr th {\n",
       "        vertical-align: top;\n",
       "    }\n",
       "\n",
       "    .dataframe thead th {\n",
       "        text-align: right;\n",
       "    }\n",
       "</style>\n",
       "<table border=\"1\" class=\"dataframe\">\n",
       "  <thead>\n",
       "    <tr style=\"text-align: right;\">\n",
       "      <th></th>\n",
       "      <th>reg_ts</th>\n",
       "      <th>uid</th>\n",
       "      <th>auth_ts</th>\n",
       "    </tr>\n",
       "  </thead>\n",
       "  <tbody>\n",
       "    <tr>\n",
       "      <th>0</th>\n",
       "      <td>1998-11-18 09:43:43</td>\n",
       "      <td>1</td>\n",
       "      <td>1998-11-18 09:43:43</td>\n",
       "    </tr>\n",
       "    <tr>\n",
       "      <th>1</th>\n",
       "      <td>1999-07-22 22:38:09</td>\n",
       "      <td>2</td>\n",
       "      <td>1999-07-22 22:38:09</td>\n",
       "    </tr>\n",
       "    <tr>\n",
       "      <th>2</th>\n",
       "      <td>1999-07-22 22:38:09</td>\n",
       "      <td>2</td>\n",
       "      <td>1999-07-25 16:46:46</td>\n",
       "    </tr>\n",
       "    <tr>\n",
       "      <th>3</th>\n",
       "      <td>1999-07-22 22:38:09</td>\n",
       "      <td>2</td>\n",
       "      <td>1999-07-31 03:50:15</td>\n",
       "    </tr>\n",
       "    <tr>\n",
       "      <th>4</th>\n",
       "      <td>1999-07-22 22:38:09</td>\n",
       "      <td>2</td>\n",
       "      <td>1999-08-05 17:49:39</td>\n",
       "    </tr>\n",
       "    <tr>\n",
       "      <th>...</th>\n",
       "      <td>...</td>\n",
       "      <td>...</td>\n",
       "      <td>...</td>\n",
       "    </tr>\n",
       "    <tr>\n",
       "      <th>9601008</th>\n",
       "      <td>2020-09-23 15:13:54</td>\n",
       "      <td>1110618</td>\n",
       "      <td>2020-09-23 15:13:54</td>\n",
       "    </tr>\n",
       "    <tr>\n",
       "      <th>9601009</th>\n",
       "      <td>2020-09-23 15:14:46</td>\n",
       "      <td>1110619</td>\n",
       "      <td>2020-09-23 15:14:46</td>\n",
       "    </tr>\n",
       "    <tr>\n",
       "      <th>9601010</th>\n",
       "      <td>2020-09-23 15:15:39</td>\n",
       "      <td>1110620</td>\n",
       "      <td>2020-09-23 15:15:39</td>\n",
       "    </tr>\n",
       "    <tr>\n",
       "      <th>9601011</th>\n",
       "      <td>2020-09-23 15:16:31</td>\n",
       "      <td>1110621</td>\n",
       "      <td>2020-09-23 15:16:31</td>\n",
       "    </tr>\n",
       "    <tr>\n",
       "      <th>9601012</th>\n",
       "      <td>2020-09-23 15:17:24</td>\n",
       "      <td>1110622</td>\n",
       "      <td>2020-09-23 15:17:24</td>\n",
       "    </tr>\n",
       "  </tbody>\n",
       "</table>\n",
       "<p>9601013 rows × 3 columns</p>\n",
       "</div>"
      ],
      "text/plain": [
       "                     reg_ts      uid             auth_ts\n",
       "0       1998-11-18 09:43:43        1 1998-11-18 09:43:43\n",
       "1       1999-07-22 22:38:09        2 1999-07-22 22:38:09\n",
       "2       1999-07-22 22:38:09        2 1999-07-25 16:46:46\n",
       "3       1999-07-22 22:38:09        2 1999-07-31 03:50:15\n",
       "4       1999-07-22 22:38:09        2 1999-08-05 17:49:39\n",
       "...                     ...      ...                 ...\n",
       "9601008 2020-09-23 15:13:54  1110618 2020-09-23 15:13:54\n",
       "9601009 2020-09-23 15:14:46  1110619 2020-09-23 15:14:46\n",
       "9601010 2020-09-23 15:15:39  1110620 2020-09-23 15:15:39\n",
       "9601011 2020-09-23 15:16:31  1110621 2020-09-23 15:16:31\n",
       "9601012 2020-09-23 15:17:24  1110622 2020-09-23 15:17:24\n",
       "\n",
       "[9601013 rows x 3 columns]"
      ]
     },
     "execution_count": 14,
     "metadata": {},
     "output_type": "execute_result"
    }
   ],
   "source": [
    "data = pd.merge(reg_data, auth_data, on = 'uid')\n",
    "data"
   ]
  },
  {
   "cell_type": "code",
   "execution_count": 15,
   "metadata": {},
   "outputs": [
    {
     "data": {
      "text/plain": [
       "False    9601013\n",
       "dtype: int64"
      ]
     },
     "execution_count": 15,
     "metadata": {},
     "output_type": "execute_result"
    }
   ],
   "source": [
    "(data['auth_ts'] < data['reg_ts']).value_counts()"
   ]
  },
  {
   "cell_type": "markdown",
   "metadata": {},
   "source": [
    "Проверили есть ли некорректные данные, когда заход в игру происходит раньше регистрации.  \n",
    "Таких данных нет"
   ]
  },
  {
   "cell_type": "code",
   "execution_count": 16,
   "metadata": {},
   "outputs": [],
   "source": [
    "def retention(full_data, min_reg_date, max_reg_date, period_in_days):\n",
    "    \"\"\"\n",
    "        Функция подсчета retention и показа его в виде heatmap для заданных параметров\n",
    "        \n",
    "        Parameters\n",
    "        ----------\n",
    "        full_data : DataFrame\n",
    "            таблица с uid(уникальный идентификатор пользователя), reg_ts(дата регистрации), auth_ts(дата захода в игру)\n",
    "        min_reg_date : string\n",
    "            Минимальная дата регистрации для подсчета retention. В стровоковом формате вида \"YYYY-MM-DD\"\n",
    "        max_reg_date : string\n",
    "            Максимальная дата регистрации для подсчета retention. В стровоковом формате вида \"YYYY-MM-DD\"\n",
    "        period_in_days : int\n",
    "            Период в котором подсчитывается retention. Задается в полных днях\n",
    "            \n",
    "        Returns\n",
    "        -------\n",
    "            pandas.io.formats.style.Styler\n",
    "            Стилизованный heatmap с retention'ом для заданных параметров\n",
    "            \n",
    "    \"\"\"\n",
    "    #Количество дней с момента регистрации\n",
    "    full_data['days'] = (full_data['auth_ts'] - full_data['reg_ts']).dt.days\n",
    "    #Вводим столбцы с упрощенными датами по дням\n",
    "    full_data['reg_day'] = full_data['reg_ts'].dt.to_period('D')\n",
    "    full_data['auth_day'] = full_data['auth_ts'].dt.to_period('D')\n",
    "    \n",
    "    # Фильтруем данные по периоду, минимальной и максимальной датой регистрации\n",
    "    # затем группируем данные в когорты по дню регистрации\n",
    "    # и считаем количество пользователей в когорте по периоду\n",
    "    df = full_data[(full_data['days'] <= period_in_days) & (full_data['reg_day'] <= max_reg_date) & (full_data['reg_day'] >= min_reg_date)]\\\n",
    "    .groupby(['reg_day', 'auth_day', 'days'], as_index = False)\\\n",
    "    .agg({'uid': 'nunique'})\\\n",
    "    .rename(columns = {'uid':'uid_cnt'})\n",
    "    \n",
    "    # Строим таблицу retention'а по дням в заданном периоде\n",
    "    pivot = df.pivot_table(index = 'reg_day', columns = 'days', values = 'uid_cnt', aggfunc = 'sum')\n",
    "    # Переводим данные таблицы в процентный формат\n",
    "    percentage_pivot = pivot.pipe(lambda d: d.div(d[0], axis='index'))\n",
    "    \n",
    "    # Настраиваем heatmap\n",
    "    ur_style  = (percentage_pivot\n",
    "            .style\n",
    "            .set_caption('User retention by cohort')  # добавляем подпись\n",
    "            .background_gradient(cmap='viridis')  # раскрашиваем ячейки по столбцам\n",
    "            .highlight_null('white')  # делаем белый фон для значений NaN\n",
    "            .format(\"{:0.1%}\", na_rep=\"\"))  # NaN заменяем на пустоту\n",
    "    return ur_style\n"
   ]
  },
  {
   "cell_type": "markdown",
   "metadata": {},
   "source": [
    "##### Проверим работоспособность функции. \n",
    "Попробуем посмотреть ретеншен за период 5 дней, для пользователей, которые зарегистрировались с 1 января 2020 года по 1 февраля 2020 года"
   ]
  },
  {
   "cell_type": "code",
   "execution_count": 17,
   "metadata": {},
   "outputs": [
    {
     "data": {
      "text/html": [
       "<style  type=\"text/css\" >\n",
       "#T_4f6d2e20_b549_11ef_bdbb_96000040dfb6row0_col0,#T_4f6d2e20_b549_11ef_bdbb_96000040dfb6row1_col0,#T_4f6d2e20_b549_11ef_bdbb_96000040dfb6row2_col0,#T_4f6d2e20_b549_11ef_bdbb_96000040dfb6row3_col0,#T_4f6d2e20_b549_11ef_bdbb_96000040dfb6row4_col0,#T_4f6d2e20_b549_11ef_bdbb_96000040dfb6row5_col0,#T_4f6d2e20_b549_11ef_bdbb_96000040dfb6row5_col4,#T_4f6d2e20_b549_11ef_bdbb_96000040dfb6row6_col0,#T_4f6d2e20_b549_11ef_bdbb_96000040dfb6row7_col0,#T_4f6d2e20_b549_11ef_bdbb_96000040dfb6row8_col0,#T_4f6d2e20_b549_11ef_bdbb_96000040dfb6row9_col0,#T_4f6d2e20_b549_11ef_bdbb_96000040dfb6row10_col0,#T_4f6d2e20_b549_11ef_bdbb_96000040dfb6row11_col0,#T_4f6d2e20_b549_11ef_bdbb_96000040dfb6row12_col0,#T_4f6d2e20_b549_11ef_bdbb_96000040dfb6row13_col0,#T_4f6d2e20_b549_11ef_bdbb_96000040dfb6row14_col0,#T_4f6d2e20_b549_11ef_bdbb_96000040dfb6row15_col0,#T_4f6d2e20_b549_11ef_bdbb_96000040dfb6row16_col0,#T_4f6d2e20_b549_11ef_bdbb_96000040dfb6row17_col0,#T_4f6d2e20_b549_11ef_bdbb_96000040dfb6row18_col0,#T_4f6d2e20_b549_11ef_bdbb_96000040dfb6row18_col3,#T_4f6d2e20_b549_11ef_bdbb_96000040dfb6row19_col0,#T_4f6d2e20_b549_11ef_bdbb_96000040dfb6row20_col0,#T_4f6d2e20_b549_11ef_bdbb_96000040dfb6row21_col0,#T_4f6d2e20_b549_11ef_bdbb_96000040dfb6row21_col1,#T_4f6d2e20_b549_11ef_bdbb_96000040dfb6row22_col0,#T_4f6d2e20_b549_11ef_bdbb_96000040dfb6row23_col0,#T_4f6d2e20_b549_11ef_bdbb_96000040dfb6row23_col2,#T_4f6d2e20_b549_11ef_bdbb_96000040dfb6row24_col0,#T_4f6d2e20_b549_11ef_bdbb_96000040dfb6row25_col0,#T_4f6d2e20_b549_11ef_bdbb_96000040dfb6row25_col5,#T_4f6d2e20_b549_11ef_bdbb_96000040dfb6row26_col0,#T_4f6d2e20_b549_11ef_bdbb_96000040dfb6row27_col0,#T_4f6d2e20_b549_11ef_bdbb_96000040dfb6row28_col0,#T_4f6d2e20_b549_11ef_bdbb_96000040dfb6row29_col0,#T_4f6d2e20_b549_11ef_bdbb_96000040dfb6row30_col0,#T_4f6d2e20_b549_11ef_bdbb_96000040dfb6row31_col0{\n",
       "            background-color:  #440154;\n",
       "            color:  #f1f1f1;\n",
       "        }#T_4f6d2e20_b549_11ef_bdbb_96000040dfb6row0_col1{\n",
       "            background-color:  #5ec962;\n",
       "            color:  #000000;\n",
       "        }#T_4f6d2e20_b549_11ef_bdbb_96000040dfb6row0_col2{\n",
       "            background-color:  #481c6e;\n",
       "            color:  #f1f1f1;\n",
       "        }#T_4f6d2e20_b549_11ef_bdbb_96000040dfb6row0_col3{\n",
       "            background-color:  #31668e;\n",
       "            color:  #f1f1f1;\n",
       "        }#T_4f6d2e20_b549_11ef_bdbb_96000040dfb6row0_col4,#T_4f6d2e20_b549_11ef_bdbb_96000040dfb6row12_col1{\n",
       "            background-color:  #25ab82;\n",
       "            color:  #000000;\n",
       "        }#T_4f6d2e20_b549_11ef_bdbb_96000040dfb6row0_col5,#T_4f6d2e20_b549_11ef_bdbb_96000040dfb6row12_col4{\n",
       "            background-color:  #69cd5b;\n",
       "            color:  #000000;\n",
       "        }#T_4f6d2e20_b549_11ef_bdbb_96000040dfb6row1_col1{\n",
       "            background-color:  #24aa83;\n",
       "            color:  #000000;\n",
       "        }#T_4f6d2e20_b549_11ef_bdbb_96000040dfb6row1_col2{\n",
       "            background-color:  #1f998a;\n",
       "            color:  #000000;\n",
       "        }#T_4f6d2e20_b549_11ef_bdbb_96000040dfb6row1_col3,#T_4f6d2e20_b549_11ef_bdbb_96000040dfb6row6_col1{\n",
       "            background-color:  #86d549;\n",
       "            color:  #000000;\n",
       "        }#T_4f6d2e20_b549_11ef_bdbb_96000040dfb6row1_col4,#T_4f6d2e20_b549_11ef_bdbb_96000040dfb6row3_col3{\n",
       "            background-color:  #433d84;\n",
       "            color:  #f1f1f1;\n",
       "        }#T_4f6d2e20_b549_11ef_bdbb_96000040dfb6row1_col5{\n",
       "            background-color:  #1f9f88;\n",
       "            color:  #000000;\n",
       "        }#T_4f6d2e20_b549_11ef_bdbb_96000040dfb6row2_col1,#T_4f6d2e20_b549_11ef_bdbb_96000040dfb6row31_col2{\n",
       "            background-color:  #2c718e;\n",
       "            color:  #f1f1f1;\n",
       "        }#T_4f6d2e20_b549_11ef_bdbb_96000040dfb6row2_col2{\n",
       "            background-color:  #481a6c;\n",
       "            color:  #f1f1f1;\n",
       "        }#T_4f6d2e20_b549_11ef_bdbb_96000040dfb6row2_col3{\n",
       "            background-color:  #365c8d;\n",
       "            color:  #f1f1f1;\n",
       "        }#T_4f6d2e20_b549_11ef_bdbb_96000040dfb6row2_col4{\n",
       "            background-color:  #34b679;\n",
       "            color:  #000000;\n",
       "        }#T_4f6d2e20_b549_11ef_bdbb_96000040dfb6row2_col5,#T_4f6d2e20_b549_11ef_bdbb_96000040dfb6row13_col2,#T_4f6d2e20_b549_11ef_bdbb_96000040dfb6row17_col1,#T_4f6d2e20_b549_11ef_bdbb_96000040dfb6row19_col4,#T_4f6d2e20_b549_11ef_bdbb_96000040dfb6row25_col3{\n",
       "            background-color:  #fde725;\n",
       "            color:  #000000;\n",
       "        }#T_4f6d2e20_b549_11ef_bdbb_96000040dfb6row3_col1,#T_4f6d2e20_b549_11ef_bdbb_96000040dfb6row9_col4,#T_4f6d2e20_b549_11ef_bdbb_96000040dfb6row28_col3,#T_4f6d2e20_b549_11ef_bdbb_96000040dfb6row28_col5{\n",
       "            background-color:  #287c8e;\n",
       "            color:  #000000;\n",
       "        }#T_4f6d2e20_b549_11ef_bdbb_96000040dfb6row3_col2,#T_4f6d2e20_b549_11ef_bdbb_96000040dfb6row31_col4{\n",
       "            background-color:  #29af7f;\n",
       "            color:  #000000;\n",
       "        }#T_4f6d2e20_b549_11ef_bdbb_96000040dfb6row3_col4{\n",
       "            background-color:  #5ac864;\n",
       "            color:  #000000;\n",
       "        }#T_4f6d2e20_b549_11ef_bdbb_96000040dfb6row3_col5,#T_4f6d2e20_b549_11ef_bdbb_96000040dfb6row25_col2{\n",
       "            background-color:  #2db27d;\n",
       "            color:  #000000;\n",
       "        }#T_4f6d2e20_b549_11ef_bdbb_96000040dfb6row4_col1,#T_4f6d2e20_b549_11ef_bdbb_96000040dfb6row6_col2,#T_4f6d2e20_b549_11ef_bdbb_96000040dfb6row7_col5,#T_4f6d2e20_b549_11ef_bdbb_96000040dfb6row10_col3,#T_4f6d2e20_b549_11ef_bdbb_96000040dfb6row19_col2{\n",
       "            background-color:  #2d708e;\n",
       "            color:  #f1f1f1;\n",
       "        }#T_4f6d2e20_b549_11ef_bdbb_96000040dfb6row4_col2,#T_4f6d2e20_b549_11ef_bdbb_96000040dfb6row29_col2{\n",
       "            background-color:  #1fa287;\n",
       "            color:  #000000;\n",
       "        }#T_4f6d2e20_b549_11ef_bdbb_96000040dfb6row4_col3,#T_4f6d2e20_b549_11ef_bdbb_96000040dfb6row16_col3{\n",
       "            background-color:  #33638d;\n",
       "            color:  #f1f1f1;\n",
       "        }#T_4f6d2e20_b549_11ef_bdbb_96000040dfb6row4_col4,#T_4f6d2e20_b549_11ef_bdbb_96000040dfb6row24_col5,#T_4f6d2e20_b549_11ef_bdbb_96000040dfb6row30_col2{\n",
       "            background-color:  #3e4c8a;\n",
       "            color:  #f1f1f1;\n",
       "        }#T_4f6d2e20_b549_11ef_bdbb_96000040dfb6row4_col5{\n",
       "            background-color:  #1f958b;\n",
       "            color:  #000000;\n",
       "        }#T_4f6d2e20_b549_11ef_bdbb_96000040dfb6row5_col1,#T_4f6d2e20_b549_11ef_bdbb_96000040dfb6row17_col4{\n",
       "            background-color:  #a8db34;\n",
       "            color:  #000000;\n",
       "        }#T_4f6d2e20_b549_11ef_bdbb_96000040dfb6row5_col2,#T_4f6d2e20_b549_11ef_bdbb_96000040dfb6row15_col3{\n",
       "            background-color:  #28ae80;\n",
       "            color:  #000000;\n",
       "        }#T_4f6d2e20_b549_11ef_bdbb_96000040dfb6row5_col3,#T_4f6d2e20_b549_11ef_bdbb_96000040dfb6row11_col1,#T_4f6d2e20_b549_11ef_bdbb_96000040dfb6row25_col1,#T_4f6d2e20_b549_11ef_bdbb_96000040dfb6row26_col4{\n",
       "            background-color:  #2f6b8e;\n",
       "            color:  #f1f1f1;\n",
       "        }#T_4f6d2e20_b549_11ef_bdbb_96000040dfb6row5_col5{\n",
       "            background-color:  #482677;\n",
       "            color:  #f1f1f1;\n",
       "        }#T_4f6d2e20_b549_11ef_bdbb_96000040dfb6row6_col3{\n",
       "            background-color:  #297b8e;\n",
       "            color:  #000000;\n",
       "        }#T_4f6d2e20_b549_11ef_bdbb_96000040dfb6row6_col4{\n",
       "            background-color:  #27ad81;\n",
       "            color:  #000000;\n",
       "        }#T_4f6d2e20_b549_11ef_bdbb_96000040dfb6row6_col5,#T_4f6d2e20_b549_11ef_bdbb_96000040dfb6row22_col5{\n",
       "            background-color:  #a5db36;\n",
       "            color:  #000000;\n",
       "        }#T_4f6d2e20_b549_11ef_bdbb_96000040dfb6row7_col1,#T_4f6d2e20_b549_11ef_bdbb_96000040dfb6row9_col2{\n",
       "            background-color:  #29798e;\n",
       "            color:  #000000;\n",
       "        }#T_4f6d2e20_b549_11ef_bdbb_96000040dfb6row7_col2,#T_4f6d2e20_b549_11ef_bdbb_96000040dfb6row7_col4,#T_4f6d2e20_b549_11ef_bdbb_96000040dfb6row23_col3{\n",
       "            background-color:  #1fa088;\n",
       "            color:  #000000;\n",
       "        }#T_4f6d2e20_b549_11ef_bdbb_96000040dfb6row7_col3{\n",
       "            background-color:  #481769;\n",
       "            color:  #f1f1f1;\n",
       "        }#T_4f6d2e20_b549_11ef_bdbb_96000040dfb6row8_col1,#T_4f6d2e20_b549_11ef_bdbb_96000040dfb6row20_col3,#T_4f6d2e20_b549_11ef_bdbb_96000040dfb6row23_col1,#T_4f6d2e20_b549_11ef_bdbb_96000040dfb6row26_col2,#T_4f6d2e20_b549_11ef_bdbb_96000040dfb6row30_col3,#T_4f6d2e20_b549_11ef_bdbb_96000040dfb6row30_col4{\n",
       "            background-color:  #26828e;\n",
       "            color:  #000000;\n",
       "        }#T_4f6d2e20_b549_11ef_bdbb_96000040dfb6row8_col2{\n",
       "            background-color:  #34608d;\n",
       "            color:  #f1f1f1;\n",
       "        }#T_4f6d2e20_b549_11ef_bdbb_96000040dfb6row8_col3,#T_4f6d2e20_b549_11ef_bdbb_96000040dfb6row20_col4{\n",
       "            background-color:  #4ec36b;\n",
       "            color:  #000000;\n",
       "        }#T_4f6d2e20_b549_11ef_bdbb_96000040dfb6row8_col4{\n",
       "            background-color:  #3b518b;\n",
       "            color:  #f1f1f1;\n",
       "        }#T_4f6d2e20_b549_11ef_bdbb_96000040dfb6row8_col5,#T_4f6d2e20_b549_11ef_bdbb_96000040dfb6row24_col4{\n",
       "            background-color:  #31b57b;\n",
       "            color:  #000000;\n",
       "        }#T_4f6d2e20_b549_11ef_bdbb_96000040dfb6row9_col1{\n",
       "            background-color:  #3a548c;\n",
       "            color:  #f1f1f1;\n",
       "        }#T_4f6d2e20_b549_11ef_bdbb_96000040dfb6row9_col3,#T_4f6d2e20_b549_11ef_bdbb_96000040dfb6row28_col4{\n",
       "            background-color:  #3d4d8a;\n",
       "            color:  #f1f1f1;\n",
       "        }#T_4f6d2e20_b549_11ef_bdbb_96000040dfb6row9_col5{\n",
       "            background-color:  #3bbb75;\n",
       "            color:  #000000;\n",
       "        }#T_4f6d2e20_b549_11ef_bdbb_96000040dfb6row10_col1,#T_4f6d2e20_b549_11ef_bdbb_96000040dfb6row16_col4,#T_4f6d2e20_b549_11ef_bdbb_96000040dfb6row26_col1{\n",
       "            background-color:  #472a7a;\n",
       "            color:  #f1f1f1;\n",
       "        }#T_4f6d2e20_b549_11ef_bdbb_96000040dfb6row10_col2{\n",
       "            background-color:  #63cb5f;\n",
       "            color:  #000000;\n",
       "        }#T_4f6d2e20_b549_11ef_bdbb_96000040dfb6row10_col4{\n",
       "            background-color:  #2e6e8e;\n",
       "            color:  #f1f1f1;\n",
       "        }#T_4f6d2e20_b549_11ef_bdbb_96000040dfb6row10_col5{\n",
       "            background-color:  #470e61;\n",
       "            color:  #f1f1f1;\n",
       "        }#T_4f6d2e20_b549_11ef_bdbb_96000040dfb6row11_col2{\n",
       "            background-color:  #2fb47c;\n",
       "            color:  #000000;\n",
       "        }#T_4f6d2e20_b549_11ef_bdbb_96000040dfb6row11_col3{\n",
       "            background-color:  #355e8d;\n",
       "            color:  #f1f1f1;\n",
       "        }#T_4f6d2e20_b549_11ef_bdbb_96000040dfb6row11_col4{\n",
       "            background-color:  #2ab07f;\n",
       "            color:  #000000;\n",
       "        }#T_4f6d2e20_b549_11ef_bdbb_96000040dfb6row11_col5,#T_4f6d2e20_b549_11ef_bdbb_96000040dfb6row19_col5{\n",
       "            background-color:  #44bf70;\n",
       "            color:  #000000;\n",
       "        }#T_4f6d2e20_b549_11ef_bdbb_96000040dfb6row12_col2{\n",
       "            background-color:  #42be71;\n",
       "            color:  #000000;\n",
       "        }#T_4f6d2e20_b549_11ef_bdbb_96000040dfb6row12_col3{\n",
       "            background-color:  #3e4989;\n",
       "            color:  #f1f1f1;\n",
       "        }#T_4f6d2e20_b549_11ef_bdbb_96000040dfb6row12_col5{\n",
       "            background-color:  #2c738e;\n",
       "            color:  #f1f1f1;\n",
       "        }#T_4f6d2e20_b549_11ef_bdbb_96000040dfb6row13_col1{\n",
       "            background-color:  #238a8d;\n",
       "            color:  #000000;\n",
       "        }#T_4f6d2e20_b549_11ef_bdbb_96000040dfb6row13_col3{\n",
       "            background-color:  #1f978b;\n",
       "            color:  #000000;\n",
       "        }#T_4f6d2e20_b549_11ef_bdbb_96000040dfb6row13_col4,#T_4f6d2e20_b549_11ef_bdbb_96000040dfb6row27_col2{\n",
       "            background-color:  #3dbc74;\n",
       "            color:  #000000;\n",
       "        }#T_4f6d2e20_b549_11ef_bdbb_96000040dfb6row13_col5,#T_4f6d2e20_b549_11ef_bdbb_96000040dfb6row20_col2{\n",
       "            background-color:  #24878e;\n",
       "            color:  #000000;\n",
       "        }#T_4f6d2e20_b549_11ef_bdbb_96000040dfb6row14_col1{\n",
       "            background-color:  #414487;\n",
       "            color:  #f1f1f1;\n",
       "        }#T_4f6d2e20_b549_11ef_bdbb_96000040dfb6row14_col2{\n",
       "            background-color:  #b8de29;\n",
       "            color:  #000000;\n",
       "        }#T_4f6d2e20_b549_11ef_bdbb_96000040dfb6row14_col3,#T_4f6d2e20_b549_11ef_bdbb_96000040dfb6row22_col4{\n",
       "            background-color:  #218f8d;\n",
       "            color:  #000000;\n",
       "        }#T_4f6d2e20_b549_11ef_bdbb_96000040dfb6row14_col4,#T_4f6d2e20_b549_11ef_bdbb_96000040dfb6row28_col1{\n",
       "            background-color:  #20938c;\n",
       "            color:  #000000;\n",
       "        }#T_4f6d2e20_b549_11ef_bdbb_96000040dfb6row14_col5{\n",
       "            background-color:  #482979;\n",
       "            color:  #f1f1f1;\n",
       "        }#T_4f6d2e20_b549_11ef_bdbb_96000040dfb6row15_col1,#T_4f6d2e20_b549_11ef_bdbb_96000040dfb6row19_col3,#T_4f6d2e20_b549_11ef_bdbb_96000040dfb6row21_col2{\n",
       "            background-color:  #20928c;\n",
       "            color:  #000000;\n",
       "        }#T_4f6d2e20_b549_11ef_bdbb_96000040dfb6row15_col2,#T_4f6d2e20_b549_11ef_bdbb_96000040dfb6row30_col5{\n",
       "            background-color:  #20a386;\n",
       "            color:  #000000;\n",
       "        }#T_4f6d2e20_b549_11ef_bdbb_96000040dfb6row15_col4{\n",
       "            background-color:  #22a785;\n",
       "            color:  #000000;\n",
       "        }#T_4f6d2e20_b549_11ef_bdbb_96000040dfb6row15_col5{\n",
       "            background-color:  #375b8d;\n",
       "            color:  #f1f1f1;\n",
       "        }#T_4f6d2e20_b549_11ef_bdbb_96000040dfb6row16_col1{\n",
       "            background-color:  #463480;\n",
       "            color:  #f1f1f1;\n",
       "        }#T_4f6d2e20_b549_11ef_bdbb_96000040dfb6row16_col2{\n",
       "            background-color:  #375a8c;\n",
       "            color:  #f1f1f1;\n",
       "        }#T_4f6d2e20_b549_11ef_bdbb_96000040dfb6row16_col5,#T_4f6d2e20_b549_11ef_bdbb_96000040dfb6row31_col1{\n",
       "            background-color:  #2d718e;\n",
       "            color:  #f1f1f1;\n",
       "        }#T_4f6d2e20_b549_11ef_bdbb_96000040dfb6row17_col2{\n",
       "            background-color:  #277e8e;\n",
       "            color:  #000000;\n",
       "        }#T_4f6d2e20_b549_11ef_bdbb_96000040dfb6row17_col3,#T_4f6d2e20_b549_11ef_bdbb_96000040dfb6row18_col4{\n",
       "            background-color:  #25838e;\n",
       "            color:  #000000;\n",
       "        }#T_4f6d2e20_b549_11ef_bdbb_96000040dfb6row17_col5,#T_4f6d2e20_b549_11ef_bdbb_96000040dfb6row22_col3{\n",
       "            background-color:  #424186;\n",
       "            color:  #f1f1f1;\n",
       "        }#T_4f6d2e20_b549_11ef_bdbb_96000040dfb6row18_col1{\n",
       "            background-color:  #c2df23;\n",
       "            color:  #000000;\n",
       "        }#T_4f6d2e20_b549_11ef_bdbb_96000040dfb6row18_col2,#T_4f6d2e20_b549_11ef_bdbb_96000040dfb6row31_col3{\n",
       "            background-color:  #443a83;\n",
       "            color:  #f1f1f1;\n",
       "        }#T_4f6d2e20_b549_11ef_bdbb_96000040dfb6row18_col5{\n",
       "            background-color:  #3aba76;\n",
       "            color:  #000000;\n",
       "        }#T_4f6d2e20_b549_11ef_bdbb_96000040dfb6row19_col1{\n",
       "            background-color:  #423f85;\n",
       "            color:  #f1f1f1;\n",
       "        }#T_4f6d2e20_b549_11ef_bdbb_96000040dfb6row20_col1{\n",
       "            background-color:  #38b977;\n",
       "            color:  #000000;\n",
       "        }#T_4f6d2e20_b549_11ef_bdbb_96000040dfb6row20_col5{\n",
       "            background-color:  #472d7b;\n",
       "            color:  #f1f1f1;\n",
       "        }#T_4f6d2e20_b549_11ef_bdbb_96000040dfb6row21_col3{\n",
       "            background-color:  #460a5d;\n",
       "            color:  #f1f1f1;\n",
       "        }#T_4f6d2e20_b549_11ef_bdbb_96000040dfb6row21_col4,#T_4f6d2e20_b549_11ef_bdbb_96000040dfb6row29_col5{\n",
       "            background-color:  #23888e;\n",
       "            color:  #000000;\n",
       "        }#T_4f6d2e20_b549_11ef_bdbb_96000040dfb6row21_col5{\n",
       "            background-color:  #2e6d8e;\n",
       "            color:  #f1f1f1;\n",
       "        }#T_4f6d2e20_b549_11ef_bdbb_96000040dfb6row22_col1{\n",
       "            background-color:  #39568c;\n",
       "            color:  #f1f1f1;\n",
       "        }#T_4f6d2e20_b549_11ef_bdbb_96000040dfb6row22_col2,#T_4f6d2e20_b549_11ef_bdbb_96000040dfb6row23_col4{\n",
       "            background-color:  #482576;\n",
       "            color:  #f1f1f1;\n",
       "        }#T_4f6d2e20_b549_11ef_bdbb_96000040dfb6row23_col5,#T_4f6d2e20_b549_11ef_bdbb_96000040dfb6row27_col1,#T_4f6d2e20_b549_11ef_bdbb_96000040dfb6row31_col5{\n",
       "            background-color:  #1f948c;\n",
       "            color:  #000000;\n",
       "        }#T_4f6d2e20_b549_11ef_bdbb_96000040dfb6row24_col1{\n",
       "            background-color:  #2f6c8e;\n",
       "            color:  #f1f1f1;\n",
       "        }#T_4f6d2e20_b549_11ef_bdbb_96000040dfb6row24_col2{\n",
       "            background-color:  #414287;\n",
       "            color:  #f1f1f1;\n",
       "        }#T_4f6d2e20_b549_11ef_bdbb_96000040dfb6row24_col3{\n",
       "            background-color:  #3e4a89;\n",
       "            color:  #f1f1f1;\n",
       "        }#T_4f6d2e20_b549_11ef_bdbb_96000040dfb6row25_col4{\n",
       "            background-color:  #f1e51d;\n",
       "            color:  #000000;\n",
       "        }#T_4f6d2e20_b549_11ef_bdbb_96000040dfb6row26_col3{\n",
       "            background-color:  #25858e;\n",
       "            color:  #000000;\n",
       "        }#T_4f6d2e20_b549_11ef_bdbb_96000040dfb6row26_col5{\n",
       "            background-color:  #1f988b;\n",
       "            color:  #000000;\n",
       "        }#T_4f6d2e20_b549_11ef_bdbb_96000040dfb6row27_col3{\n",
       "            background-color:  #73d056;\n",
       "            color:  #000000;\n",
       "        }#T_4f6d2e20_b549_11ef_bdbb_96000040dfb6row27_col4{\n",
       "            background-color:  #7fd34e;\n",
       "            color:  #000000;\n",
       "        }#T_4f6d2e20_b549_11ef_bdbb_96000040dfb6row27_col5{\n",
       "            background-color:  #31688e;\n",
       "            color:  #f1f1f1;\n",
       "        }#T_4f6d2e20_b549_11ef_bdbb_96000040dfb6row28_col2{\n",
       "            background-color:  #27808e;\n",
       "            color:  #000000;\n",
       "        }#T_4f6d2e20_b549_11ef_bdbb_96000040dfb6row29_col1{\n",
       "            background-color:  #1e9d89;\n",
       "            color:  #000000;\n",
       "        }#T_4f6d2e20_b549_11ef_bdbb_96000040dfb6row29_col3{\n",
       "            background-color:  #297a8e;\n",
       "            color:  #000000;\n",
       "        }#T_4f6d2e20_b549_11ef_bdbb_96000040dfb6row29_col4{\n",
       "            background-color:  #20a486;\n",
       "            color:  #000000;\n",
       "        }#T_4f6d2e20_b549_11ef_bdbb_96000040dfb6row30_col1{\n",
       "            background-color:  #453581;\n",
       "            color:  #f1f1f1;\n",
       "        }</style><table id=\"T_4f6d2e20_b549_11ef_bdbb_96000040dfb6\" ><caption>User retention by cohort</caption><thead>    <tr>        <th class=\"index_name level0\" >days</th>        <th class=\"col_heading level0 col0\" >0</th>        <th class=\"col_heading level0 col1\" >1</th>        <th class=\"col_heading level0 col2\" >2</th>        <th class=\"col_heading level0 col3\" >3</th>        <th class=\"col_heading level0 col4\" >4</th>        <th class=\"col_heading level0 col5\" >5</th>    </tr>    <tr>        <th class=\"index_name level0\" >reg_day</th>        <th class=\"blank\" ></th>        <th class=\"blank\" ></th>        <th class=\"blank\" ></th>        <th class=\"blank\" ></th>        <th class=\"blank\" ></th>        <th class=\"blank\" ></th>    </tr></thead><tbody>\n",
       "                <tr>\n",
       "                        <th id=\"T_4f6d2e20_b549_11ef_bdbb_96000040dfb6level0_row0\" class=\"row_heading level0 row0\" >2020-01-01</th>\n",
       "                        <td id=\"T_4f6d2e20_b549_11ef_bdbb_96000040dfb6row0_col0\" class=\"data row0 col0\" >100.0%</td>\n",
       "                        <td id=\"T_4f6d2e20_b549_11ef_bdbb_96000040dfb6row0_col1\" class=\"data row0 col1\" >4.7%</td>\n",
       "                        <td id=\"T_4f6d2e20_b549_11ef_bdbb_96000040dfb6row0_col2\" class=\"data row0 col2\" >3.6%</td>\n",
       "                        <td id=\"T_4f6d2e20_b549_11ef_bdbb_96000040dfb6row0_col3\" class=\"data row0 col3\" >4.8%</td>\n",
       "                        <td id=\"T_4f6d2e20_b549_11ef_bdbb_96000040dfb6row0_col4\" class=\"data row0 col4\" >5.8%</td>\n",
       "                        <td id=\"T_4f6d2e20_b549_11ef_bdbb_96000040dfb6row0_col5\" class=\"data row0 col5\" >7.3%</td>\n",
       "            </tr>\n",
       "            <tr>\n",
       "                        <th id=\"T_4f6d2e20_b549_11ef_bdbb_96000040dfb6level0_row1\" class=\"row_heading level0 row1\" >2020-01-02</th>\n",
       "                        <td id=\"T_4f6d2e20_b549_11ef_bdbb_96000040dfb6row1_col0\" class=\"data row1 col0\" >100.0%</td>\n",
       "                        <td id=\"T_4f6d2e20_b549_11ef_bdbb_96000040dfb6row1_col1\" class=\"data row1 col1\" >4.4%</td>\n",
       "                        <td id=\"T_4f6d2e20_b549_11ef_bdbb_96000040dfb6row1_col2\" class=\"data row1 col2\" >4.4%</td>\n",
       "                        <td id=\"T_4f6d2e20_b549_11ef_bdbb_96000040dfb6row1_col3\" class=\"data row1 col3\" >6.1%</td>\n",
       "                        <td id=\"T_4f6d2e20_b549_11ef_bdbb_96000040dfb6row1_col4\" class=\"data row1 col4\" >4.4%</td>\n",
       "                        <td id=\"T_4f6d2e20_b549_11ef_bdbb_96000040dfb6row1_col5\" class=\"data row1 col5\" >6.6%</td>\n",
       "            </tr>\n",
       "            <tr>\n",
       "                        <th id=\"T_4f6d2e20_b549_11ef_bdbb_96000040dfb6level0_row2\" class=\"row_heading level0 row2\" >2020-01-03</th>\n",
       "                        <td id=\"T_4f6d2e20_b549_11ef_bdbb_96000040dfb6row2_col0\" class=\"data row2 col0\" >100.0%</td>\n",
       "                        <td id=\"T_4f6d2e20_b549_11ef_bdbb_96000040dfb6row2_col1\" class=\"data row2 col1\" >3.9%</td>\n",
       "                        <td id=\"T_4f6d2e20_b549_11ef_bdbb_96000040dfb6row2_col2\" class=\"data row2 col2\" >3.6%</td>\n",
       "                        <td id=\"T_4f6d2e20_b549_11ef_bdbb_96000040dfb6row2_col3\" class=\"data row2 col3\" >4.7%</td>\n",
       "                        <td id=\"T_4f6d2e20_b549_11ef_bdbb_96000040dfb6row2_col4\" class=\"data row2 col4\" >6.0%</td>\n",
       "                        <td id=\"T_4f6d2e20_b549_11ef_bdbb_96000040dfb6row2_col5\" class=\"data row2 col5\" >8.0%</td>\n",
       "            </tr>\n",
       "            <tr>\n",
       "                        <th id=\"T_4f6d2e20_b549_11ef_bdbb_96000040dfb6level0_row3\" class=\"row_heading level0 row3\" >2020-01-04</th>\n",
       "                        <td id=\"T_4f6d2e20_b549_11ef_bdbb_96000040dfb6row3_col0\" class=\"data row3 col0\" >100.0%</td>\n",
       "                        <td id=\"T_4f6d2e20_b549_11ef_bdbb_96000040dfb6row3_col1\" class=\"data row3 col1\" >4.0%</td>\n",
       "                        <td id=\"T_4f6d2e20_b549_11ef_bdbb_96000040dfb6row3_col2\" class=\"data row3 col2\" >4.6%</td>\n",
       "                        <td id=\"T_4f6d2e20_b549_11ef_bdbb_96000040dfb6row3_col3\" class=\"data row3 col3\" >4.4%</td>\n",
       "                        <td id=\"T_4f6d2e20_b549_11ef_bdbb_96000040dfb6row3_col4\" class=\"data row3 col4\" >6.3%</td>\n",
       "                        <td id=\"T_4f6d2e20_b549_11ef_bdbb_96000040dfb6row3_col5\" class=\"data row3 col5\" >6.8%</td>\n",
       "            </tr>\n",
       "            <tr>\n",
       "                        <th id=\"T_4f6d2e20_b549_11ef_bdbb_96000040dfb6level0_row4\" class=\"row_heading level0 row4\" >2020-01-05</th>\n",
       "                        <td id=\"T_4f6d2e20_b549_11ef_bdbb_96000040dfb6row4_col0\" class=\"data row4 col0\" >100.0%</td>\n",
       "                        <td id=\"T_4f6d2e20_b549_11ef_bdbb_96000040dfb6row4_col1\" class=\"data row4 col1\" >3.9%</td>\n",
       "                        <td id=\"T_4f6d2e20_b549_11ef_bdbb_96000040dfb6row4_col2\" class=\"data row4 col2\" >4.5%</td>\n",
       "                        <td id=\"T_4f6d2e20_b549_11ef_bdbb_96000040dfb6row4_col3\" class=\"data row4 col3\" >4.8%</td>\n",
       "                        <td id=\"T_4f6d2e20_b549_11ef_bdbb_96000040dfb6row4_col4\" class=\"data row4 col4\" >4.6%</td>\n",
       "                        <td id=\"T_4f6d2e20_b549_11ef_bdbb_96000040dfb6row4_col5\" class=\"data row4 col5\" >6.5%</td>\n",
       "            </tr>\n",
       "            <tr>\n",
       "                        <th id=\"T_4f6d2e20_b549_11ef_bdbb_96000040dfb6level0_row5\" class=\"row_heading level0 row5\" >2020-01-06</th>\n",
       "                        <td id=\"T_4f6d2e20_b549_11ef_bdbb_96000040dfb6row5_col0\" class=\"data row5 col0\" >100.0%</td>\n",
       "                        <td id=\"T_4f6d2e20_b549_11ef_bdbb_96000040dfb6row5_col1\" class=\"data row5 col1\" >5.0%</td>\n",
       "                        <td id=\"T_4f6d2e20_b549_11ef_bdbb_96000040dfb6row5_col2\" class=\"data row5 col2\" >4.6%</td>\n",
       "                        <td id=\"T_4f6d2e20_b549_11ef_bdbb_96000040dfb6row5_col3\" class=\"data row5 col3\" >4.9%</td>\n",
       "                        <td id=\"T_4f6d2e20_b549_11ef_bdbb_96000040dfb6row5_col4\" class=\"data row5 col4\" >3.8%</td>\n",
       "                        <td id=\"T_4f6d2e20_b549_11ef_bdbb_96000040dfb6row5_col5\" class=\"data row5 col5\" >5.1%</td>\n",
       "            </tr>\n",
       "            <tr>\n",
       "                        <th id=\"T_4f6d2e20_b549_11ef_bdbb_96000040dfb6level0_row6\" class=\"row_heading level0 row6\" >2020-01-07</th>\n",
       "                        <td id=\"T_4f6d2e20_b549_11ef_bdbb_96000040dfb6row6_col0\" class=\"data row6 col0\" >100.0%</td>\n",
       "                        <td id=\"T_4f6d2e20_b549_11ef_bdbb_96000040dfb6row6_col1\" class=\"data row6 col1\" >4.9%</td>\n",
       "                        <td id=\"T_4f6d2e20_b549_11ef_bdbb_96000040dfb6row6_col2\" class=\"data row6 col2\" >4.1%</td>\n",
       "                        <td id=\"T_4f6d2e20_b549_11ef_bdbb_96000040dfb6row6_col3\" class=\"data row6 col3\" >5.0%</td>\n",
       "                        <td id=\"T_4f6d2e20_b549_11ef_bdbb_96000040dfb6row6_col4\" class=\"data row6 col4\" >5.9%</td>\n",
       "                        <td id=\"T_4f6d2e20_b549_11ef_bdbb_96000040dfb6row6_col5\" class=\"data row6 col5\" >7.6%</td>\n",
       "            </tr>\n",
       "            <tr>\n",
       "                        <th id=\"T_4f6d2e20_b549_11ef_bdbb_96000040dfb6level0_row7\" class=\"row_heading level0 row7\" >2020-01-08</th>\n",
       "                        <td id=\"T_4f6d2e20_b549_11ef_bdbb_96000040dfb6row7_col0\" class=\"data row7 col0\" >100.0%</td>\n",
       "                        <td id=\"T_4f6d2e20_b549_11ef_bdbb_96000040dfb6row7_col1\" class=\"data row7 col1\" >4.0%</td>\n",
       "                        <td id=\"T_4f6d2e20_b549_11ef_bdbb_96000040dfb6row7_col2\" class=\"data row7 col2\" >4.5%</td>\n",
       "                        <td id=\"T_4f6d2e20_b549_11ef_bdbb_96000040dfb6row7_col3\" class=\"data row7 col3\" >4.1%</td>\n",
       "                        <td id=\"T_4f6d2e20_b549_11ef_bdbb_96000040dfb6row7_col4\" class=\"data row7 col4\" >5.7%</td>\n",
       "                        <td id=\"T_4f6d2e20_b549_11ef_bdbb_96000040dfb6row7_col5\" class=\"data row7 col5\" >6.0%</td>\n",
       "            </tr>\n",
       "            <tr>\n",
       "                        <th id=\"T_4f6d2e20_b549_11ef_bdbb_96000040dfb6level0_row8\" class=\"row_heading level0 row8\" >2020-01-09</th>\n",
       "                        <td id=\"T_4f6d2e20_b549_11ef_bdbb_96000040dfb6row8_col0\" class=\"data row8 col0\" >100.0%</td>\n",
       "                        <td id=\"T_4f6d2e20_b549_11ef_bdbb_96000040dfb6row8_col1\" class=\"data row8 col1\" >4.1%</td>\n",
       "                        <td id=\"T_4f6d2e20_b549_11ef_bdbb_96000040dfb6row8_col2\" class=\"data row8 col2\" >4.0%</td>\n",
       "                        <td id=\"T_4f6d2e20_b549_11ef_bdbb_96000040dfb6row8_col3\" class=\"data row8 col3\" >5.9%</td>\n",
       "                        <td id=\"T_4f6d2e20_b549_11ef_bdbb_96000040dfb6row8_col4\" class=\"data row8 col4\" >4.6%</td>\n",
       "                        <td id=\"T_4f6d2e20_b549_11ef_bdbb_96000040dfb6row8_col5\" class=\"data row8 col5\" >6.9%</td>\n",
       "            </tr>\n",
       "            <tr>\n",
       "                        <th id=\"T_4f6d2e20_b549_11ef_bdbb_96000040dfb6level0_row9\" class=\"row_heading level0 row9\" >2020-01-10</th>\n",
       "                        <td id=\"T_4f6d2e20_b549_11ef_bdbb_96000040dfb6row9_col0\" class=\"data row9 col0\" >100.0%</td>\n",
       "                        <td id=\"T_4f6d2e20_b549_11ef_bdbb_96000040dfb6row9_col1\" class=\"data row9 col1\" >3.7%</td>\n",
       "                        <td id=\"T_4f6d2e20_b549_11ef_bdbb_96000040dfb6row9_col2\" class=\"data row9 col2\" >4.2%</td>\n",
       "                        <td id=\"T_4f6d2e20_b549_11ef_bdbb_96000040dfb6row9_col3\" class=\"data row9 col3\" >4.5%</td>\n",
       "                        <td id=\"T_4f6d2e20_b549_11ef_bdbb_96000040dfb6row9_col4\" class=\"data row9 col4\" >5.2%</td>\n",
       "                        <td id=\"T_4f6d2e20_b549_11ef_bdbb_96000040dfb6row9_col5\" class=\"data row9 col5\" >7.0%</td>\n",
       "            </tr>\n",
       "            <tr>\n",
       "                        <th id=\"T_4f6d2e20_b549_11ef_bdbb_96000040dfb6level0_row10\" class=\"row_heading level0 row10\" >2020-01-11</th>\n",
       "                        <td id=\"T_4f6d2e20_b549_11ef_bdbb_96000040dfb6row10_col0\" class=\"data row10 col0\" >100.0%</td>\n",
       "                        <td id=\"T_4f6d2e20_b549_11ef_bdbb_96000040dfb6row10_col1\" class=\"data row10 col1\" >3.4%</td>\n",
       "                        <td id=\"T_4f6d2e20_b549_11ef_bdbb_96000040dfb6row10_col2\" class=\"data row10 col2\" >4.8%</td>\n",
       "                        <td id=\"T_4f6d2e20_b549_11ef_bdbb_96000040dfb6row10_col3\" class=\"data row10 col3\" >4.9%</td>\n",
       "                        <td id=\"T_4f6d2e20_b549_11ef_bdbb_96000040dfb6row10_col4\" class=\"data row10 col4\" >5.0%</td>\n",
       "                        <td id=\"T_4f6d2e20_b549_11ef_bdbb_96000040dfb6row10_col5\" class=\"data row10 col5\" >4.9%</td>\n",
       "            </tr>\n",
       "            <tr>\n",
       "                        <th id=\"T_4f6d2e20_b549_11ef_bdbb_96000040dfb6level0_row11\" class=\"row_heading level0 row11\" >2020-01-12</th>\n",
       "                        <td id=\"T_4f6d2e20_b549_11ef_bdbb_96000040dfb6row11_col0\" class=\"data row11 col0\" >100.0%</td>\n",
       "                        <td id=\"T_4f6d2e20_b549_11ef_bdbb_96000040dfb6row11_col1\" class=\"data row11 col1\" >3.9%</td>\n",
       "                        <td id=\"T_4f6d2e20_b549_11ef_bdbb_96000040dfb6row11_col2\" class=\"data row11 col2\" >4.6%</td>\n",
       "                        <td id=\"T_4f6d2e20_b549_11ef_bdbb_96000040dfb6row11_col3\" class=\"data row11 col3\" >4.7%</td>\n",
       "                        <td id=\"T_4f6d2e20_b549_11ef_bdbb_96000040dfb6row11_col4\" class=\"data row11 col4\" >5.9%</td>\n",
       "                        <td id=\"T_4f6d2e20_b549_11ef_bdbb_96000040dfb6row11_col5\" class=\"data row11 col5\" >7.0%</td>\n",
       "            </tr>\n",
       "            <tr>\n",
       "                        <th id=\"T_4f6d2e20_b549_11ef_bdbb_96000040dfb6level0_row12\" class=\"row_heading level0 row12\" >2020-01-13</th>\n",
       "                        <td id=\"T_4f6d2e20_b549_11ef_bdbb_96000040dfb6row12_col0\" class=\"data row12 col0\" >100.0%</td>\n",
       "                        <td id=\"T_4f6d2e20_b549_11ef_bdbb_96000040dfb6row12_col1\" class=\"data row12 col1\" >4.4%</td>\n",
       "                        <td id=\"T_4f6d2e20_b549_11ef_bdbb_96000040dfb6row12_col2\" class=\"data row12 col2\" >4.7%</td>\n",
       "                        <td id=\"T_4f6d2e20_b549_11ef_bdbb_96000040dfb6row12_col3\" class=\"data row12 col3\" >4.5%</td>\n",
       "                        <td id=\"T_4f6d2e20_b549_11ef_bdbb_96000040dfb6row12_col4\" class=\"data row12 col4\" >6.4%</td>\n",
       "                        <td id=\"T_4f6d2e20_b549_11ef_bdbb_96000040dfb6row12_col5\" class=\"data row12 col5\" >6.0%</td>\n",
       "            </tr>\n",
       "            <tr>\n",
       "                        <th id=\"T_4f6d2e20_b549_11ef_bdbb_96000040dfb6level0_row13\" class=\"row_heading level0 row13\" >2020-01-14</th>\n",
       "                        <td id=\"T_4f6d2e20_b549_11ef_bdbb_96000040dfb6row13_col0\" class=\"data row13 col0\" >100.0%</td>\n",
       "                        <td id=\"T_4f6d2e20_b549_11ef_bdbb_96000040dfb6row13_col1\" class=\"data row13 col1\" >4.2%</td>\n",
       "                        <td id=\"T_4f6d2e20_b549_11ef_bdbb_96000040dfb6row13_col2\" class=\"data row13 col2\" >5.3%</td>\n",
       "                        <td id=\"T_4f6d2e20_b549_11ef_bdbb_96000040dfb6row13_col3\" class=\"data row13 col3\" >5.4%</td>\n",
       "                        <td id=\"T_4f6d2e20_b549_11ef_bdbb_96000040dfb6row13_col4\" class=\"data row13 col4\" >6.1%</td>\n",
       "                        <td id=\"T_4f6d2e20_b549_11ef_bdbb_96000040dfb6row13_col5\" class=\"data row13 col5\" >6.3%</td>\n",
       "            </tr>\n",
       "            <tr>\n",
       "                        <th id=\"T_4f6d2e20_b549_11ef_bdbb_96000040dfb6level0_row14\" class=\"row_heading level0 row14\" >2020-01-15</th>\n",
       "                        <td id=\"T_4f6d2e20_b549_11ef_bdbb_96000040dfb6row14_col0\" class=\"data row14 col0\" >100.0%</td>\n",
       "                        <td id=\"T_4f6d2e20_b549_11ef_bdbb_96000040dfb6row14_col1\" class=\"data row14 col1\" >3.6%</td>\n",
       "                        <td id=\"T_4f6d2e20_b549_11ef_bdbb_96000040dfb6row14_col2\" class=\"data row14 col2\" >5.1%</td>\n",
       "                        <td id=\"T_4f6d2e20_b549_11ef_bdbb_96000040dfb6row14_col3\" class=\"data row14 col3\" >5.2%</td>\n",
       "                        <td id=\"T_4f6d2e20_b549_11ef_bdbb_96000040dfb6row14_col4\" class=\"data row14 col4\" >5.5%</td>\n",
       "                        <td id=\"T_4f6d2e20_b549_11ef_bdbb_96000040dfb6row14_col5\" class=\"data row14 col5\" >5.2%</td>\n",
       "            </tr>\n",
       "            <tr>\n",
       "                        <th id=\"T_4f6d2e20_b549_11ef_bdbb_96000040dfb6level0_row15\" class=\"row_heading level0 row15\" >2020-01-16</th>\n",
       "                        <td id=\"T_4f6d2e20_b549_11ef_bdbb_96000040dfb6row15_col0\" class=\"data row15 col0\" >100.0%</td>\n",
       "                        <td id=\"T_4f6d2e20_b549_11ef_bdbb_96000040dfb6row15_col1\" class=\"data row15 col1\" >4.2%</td>\n",
       "                        <td id=\"T_4f6d2e20_b549_11ef_bdbb_96000040dfb6row15_col2\" class=\"data row15 col2\" >4.5%</td>\n",
       "                        <td id=\"T_4f6d2e20_b549_11ef_bdbb_96000040dfb6row15_col3\" class=\"data row15 col3\" >5.6%</td>\n",
       "                        <td id=\"T_4f6d2e20_b549_11ef_bdbb_96000040dfb6row15_col4\" class=\"data row15 col4\" >5.8%</td>\n",
       "                        <td id=\"T_4f6d2e20_b549_11ef_bdbb_96000040dfb6row15_col5\" class=\"data row15 col5\" >5.7%</td>\n",
       "            </tr>\n",
       "            <tr>\n",
       "                        <th id=\"T_4f6d2e20_b549_11ef_bdbb_96000040dfb6level0_row16\" class=\"row_heading level0 row16\" >2020-01-17</th>\n",
       "                        <td id=\"T_4f6d2e20_b549_11ef_bdbb_96000040dfb6row16_col0\" class=\"data row16 col0\" >100.0%</td>\n",
       "                        <td id=\"T_4f6d2e20_b549_11ef_bdbb_96000040dfb6row16_col1\" class=\"data row16 col1\" >3.5%</td>\n",
       "                        <td id=\"T_4f6d2e20_b549_11ef_bdbb_96000040dfb6row16_col2\" class=\"data row16 col2\" >3.9%</td>\n",
       "                        <td id=\"T_4f6d2e20_b549_11ef_bdbb_96000040dfb6row16_col3\" class=\"data row16 col3\" >4.8%</td>\n",
       "                        <td id=\"T_4f6d2e20_b549_11ef_bdbb_96000040dfb6row16_col4\" class=\"data row16 col4\" >4.2%</td>\n",
       "                        <td id=\"T_4f6d2e20_b549_11ef_bdbb_96000040dfb6row16_col5\" class=\"data row16 col5\" >6.0%</td>\n",
       "            </tr>\n",
       "            <tr>\n",
       "                        <th id=\"T_4f6d2e20_b549_11ef_bdbb_96000040dfb6level0_row17\" class=\"row_heading level0 row17\" >2020-01-18</th>\n",
       "                        <td id=\"T_4f6d2e20_b549_11ef_bdbb_96000040dfb6row17_col0\" class=\"data row17 col0\" >100.0%</td>\n",
       "                        <td id=\"T_4f6d2e20_b549_11ef_bdbb_96000040dfb6row17_col1\" class=\"data row17 col1\" >5.2%</td>\n",
       "                        <td id=\"T_4f6d2e20_b549_11ef_bdbb_96000040dfb6row17_col2\" class=\"data row17 col2\" >4.2%</td>\n",
       "                        <td id=\"T_4f6d2e20_b549_11ef_bdbb_96000040dfb6row17_col3\" class=\"data row17 col3\" >5.1%</td>\n",
       "                        <td id=\"T_4f6d2e20_b549_11ef_bdbb_96000040dfb6row17_col4\" class=\"data row17 col4\" >6.7%</td>\n",
       "                        <td id=\"T_4f6d2e20_b549_11ef_bdbb_96000040dfb6row17_col5\" class=\"data row17 col5\" >5.4%</td>\n",
       "            </tr>\n",
       "            <tr>\n",
       "                        <th id=\"T_4f6d2e20_b549_11ef_bdbb_96000040dfb6level0_row18\" class=\"row_heading level0 row18\" >2020-01-19</th>\n",
       "                        <td id=\"T_4f6d2e20_b549_11ef_bdbb_96000040dfb6row18_col0\" class=\"data row18 col0\" >100.0%</td>\n",
       "                        <td id=\"T_4f6d2e20_b549_11ef_bdbb_96000040dfb6row18_col1\" class=\"data row18 col1\" >5.0%</td>\n",
       "                        <td id=\"T_4f6d2e20_b549_11ef_bdbb_96000040dfb6row18_col2\" class=\"data row18 col2\" >3.8%</td>\n",
       "                        <td id=\"T_4f6d2e20_b549_11ef_bdbb_96000040dfb6row18_col3\" class=\"data row18 col3\" >3.9%</td>\n",
       "                        <td id=\"T_4f6d2e20_b549_11ef_bdbb_96000040dfb6row18_col4\" class=\"data row18 col4\" >5.3%</td>\n",
       "                        <td id=\"T_4f6d2e20_b549_11ef_bdbb_96000040dfb6row18_col5\" class=\"data row18 col5\" >7.0%</td>\n",
       "            </tr>\n",
       "            <tr>\n",
       "                        <th id=\"T_4f6d2e20_b549_11ef_bdbb_96000040dfb6level0_row19\" class=\"row_heading level0 row19\" >2020-01-20</th>\n",
       "                        <td id=\"T_4f6d2e20_b549_11ef_bdbb_96000040dfb6row19_col0\" class=\"data row19 col0\" >100.0%</td>\n",
       "                        <td id=\"T_4f6d2e20_b549_11ef_bdbb_96000040dfb6row19_col1\" class=\"data row19 col1\" >3.6%</td>\n",
       "                        <td id=\"T_4f6d2e20_b549_11ef_bdbb_96000040dfb6row19_col2\" class=\"data row19 col2\" >4.1%</td>\n",
       "                        <td id=\"T_4f6d2e20_b549_11ef_bdbb_96000040dfb6row19_col3\" class=\"data row19 col3\" >5.3%</td>\n",
       "                        <td id=\"T_4f6d2e20_b549_11ef_bdbb_96000040dfb6row19_col4\" class=\"data row19 col4\" >7.1%</td>\n",
       "                        <td id=\"T_4f6d2e20_b549_11ef_bdbb_96000040dfb6row19_col5\" class=\"data row19 col5\" >7.0%</td>\n",
       "            </tr>\n",
       "            <tr>\n",
       "                        <th id=\"T_4f6d2e20_b549_11ef_bdbb_96000040dfb6level0_row20\" class=\"row_heading level0 row20\" >2020-01-21</th>\n",
       "                        <td id=\"T_4f6d2e20_b549_11ef_bdbb_96000040dfb6row20_col0\" class=\"data row20 col0\" >100.0%</td>\n",
       "                        <td id=\"T_4f6d2e20_b549_11ef_bdbb_96000040dfb6row20_col1\" class=\"data row20 col1\" >4.6%</td>\n",
       "                        <td id=\"T_4f6d2e20_b549_11ef_bdbb_96000040dfb6row20_col2\" class=\"data row20 col2\" >4.3%</td>\n",
       "                        <td id=\"T_4f6d2e20_b549_11ef_bdbb_96000040dfb6row20_col3\" class=\"data row20 col3\" >5.1%</td>\n",
       "                        <td id=\"T_4f6d2e20_b549_11ef_bdbb_96000040dfb6row20_col4\" class=\"data row20 col4\" >6.2%</td>\n",
       "                        <td id=\"T_4f6d2e20_b549_11ef_bdbb_96000040dfb6row20_col5\" class=\"data row20 col5\" >5.2%</td>\n",
       "            </tr>\n",
       "            <tr>\n",
       "                        <th id=\"T_4f6d2e20_b549_11ef_bdbb_96000040dfb6level0_row21\" class=\"row_heading level0 row21\" >2020-01-22</th>\n",
       "                        <td id=\"T_4f6d2e20_b549_11ef_bdbb_96000040dfb6row21_col0\" class=\"data row21 col0\" >100.0%</td>\n",
       "                        <td id=\"T_4f6d2e20_b549_11ef_bdbb_96000040dfb6row21_col1\" class=\"data row21 col1\" >3.2%</td>\n",
       "                        <td id=\"T_4f6d2e20_b549_11ef_bdbb_96000040dfb6row21_col2\" class=\"data row21 col2\" >4.4%</td>\n",
       "                        <td id=\"T_4f6d2e20_b549_11ef_bdbb_96000040dfb6row21_col3\" class=\"data row21 col3\" >4.0%</td>\n",
       "                        <td id=\"T_4f6d2e20_b549_11ef_bdbb_96000040dfb6row21_col4\" class=\"data row21 col4\" >5.4%</td>\n",
       "                        <td id=\"T_4f6d2e20_b549_11ef_bdbb_96000040dfb6row21_col5\" class=\"data row21 col5\" >5.9%</td>\n",
       "            </tr>\n",
       "            <tr>\n",
       "                        <th id=\"T_4f6d2e20_b549_11ef_bdbb_96000040dfb6level0_row22\" class=\"row_heading level0 row22\" >2020-01-23</th>\n",
       "                        <td id=\"T_4f6d2e20_b549_11ef_bdbb_96000040dfb6row22_col0\" class=\"data row22 col0\" >100.0%</td>\n",
       "                        <td id=\"T_4f6d2e20_b549_11ef_bdbb_96000040dfb6row22_col1\" class=\"data row22 col1\" >3.7%</td>\n",
       "                        <td id=\"T_4f6d2e20_b549_11ef_bdbb_96000040dfb6row22_col2\" class=\"data row22 col2\" >3.6%</td>\n",
       "                        <td id=\"T_4f6d2e20_b549_11ef_bdbb_96000040dfb6row22_col3\" class=\"data row22 col3\" >4.5%</td>\n",
       "                        <td id=\"T_4f6d2e20_b549_11ef_bdbb_96000040dfb6row22_col4\" class=\"data row22 col4\" >5.5%</td>\n",
       "                        <td id=\"T_4f6d2e20_b549_11ef_bdbb_96000040dfb6row22_col5\" class=\"data row22 col5\" >7.5%</td>\n",
       "            </tr>\n",
       "            <tr>\n",
       "                        <th id=\"T_4f6d2e20_b549_11ef_bdbb_96000040dfb6level0_row23\" class=\"row_heading level0 row23\" >2020-01-24</th>\n",
       "                        <td id=\"T_4f6d2e20_b549_11ef_bdbb_96000040dfb6row23_col0\" class=\"data row23 col0\" >100.0%</td>\n",
       "                        <td id=\"T_4f6d2e20_b549_11ef_bdbb_96000040dfb6row23_col1\" class=\"data row23 col1\" >4.1%</td>\n",
       "                        <td id=\"T_4f6d2e20_b549_11ef_bdbb_96000040dfb6row23_col2\" class=\"data row23 col2\" >3.4%</td>\n",
       "                        <td id=\"T_4f6d2e20_b549_11ef_bdbb_96000040dfb6row23_col3\" class=\"data row23 col3\" >5.4%</td>\n",
       "                        <td id=\"T_4f6d2e20_b549_11ef_bdbb_96000040dfb6row23_col4\" class=\"data row23 col4\" >4.2%</td>\n",
       "                        <td id=\"T_4f6d2e20_b549_11ef_bdbb_96000040dfb6row23_col5\" class=\"data row23 col5\" >6.4%</td>\n",
       "            </tr>\n",
       "            <tr>\n",
       "                        <th id=\"T_4f6d2e20_b549_11ef_bdbb_96000040dfb6level0_row24\" class=\"row_heading level0 row24\" >2020-01-25</th>\n",
       "                        <td id=\"T_4f6d2e20_b549_11ef_bdbb_96000040dfb6row24_col0\" class=\"data row24 col0\" >100.0%</td>\n",
       "                        <td id=\"T_4f6d2e20_b549_11ef_bdbb_96000040dfb6row24_col1\" class=\"data row24 col1\" >3.9%</td>\n",
       "                        <td id=\"T_4f6d2e20_b549_11ef_bdbb_96000040dfb6row24_col2\" class=\"data row24 col2\" >3.8%</td>\n",
       "                        <td id=\"T_4f6d2e20_b549_11ef_bdbb_96000040dfb6row24_col3\" class=\"data row24 col3\" >4.5%</td>\n",
       "                        <td id=\"T_4f6d2e20_b549_11ef_bdbb_96000040dfb6row24_col4\" class=\"data row24 col4\" >6.0%</td>\n",
       "                        <td id=\"T_4f6d2e20_b549_11ef_bdbb_96000040dfb6row24_col5\" class=\"data row24 col5\" >5.5%</td>\n",
       "            </tr>\n",
       "            <tr>\n",
       "                        <th id=\"T_4f6d2e20_b549_11ef_bdbb_96000040dfb6level0_row25\" class=\"row_heading level0 row25\" >2020-01-26</th>\n",
       "                        <td id=\"T_4f6d2e20_b549_11ef_bdbb_96000040dfb6row25_col0\" class=\"data row25 col0\" >100.0%</td>\n",
       "                        <td id=\"T_4f6d2e20_b549_11ef_bdbb_96000040dfb6row25_col1\" class=\"data row25 col1\" >3.9%</td>\n",
       "                        <td id=\"T_4f6d2e20_b549_11ef_bdbb_96000040dfb6row25_col2\" class=\"data row25 col2\" >4.6%</td>\n",
       "                        <td id=\"T_4f6d2e20_b549_11ef_bdbb_96000040dfb6row25_col3\" class=\"data row25 col3\" >6.6%</td>\n",
       "                        <td id=\"T_4f6d2e20_b549_11ef_bdbb_96000040dfb6row25_col4\" class=\"data row25 col4\" >7.1%</td>\n",
       "                        <td id=\"T_4f6d2e20_b549_11ef_bdbb_96000040dfb6row25_col5\" class=\"data row25 col5\" >4.8%</td>\n",
       "            </tr>\n",
       "            <tr>\n",
       "                        <th id=\"T_4f6d2e20_b549_11ef_bdbb_96000040dfb6level0_row26\" class=\"row_heading level0 row26\" >2020-01-27</th>\n",
       "                        <td id=\"T_4f6d2e20_b549_11ef_bdbb_96000040dfb6row26_col0\" class=\"data row26 col0\" >100.0%</td>\n",
       "                        <td id=\"T_4f6d2e20_b549_11ef_bdbb_96000040dfb6row26_col1\" class=\"data row26 col1\" >3.4%</td>\n",
       "                        <td id=\"T_4f6d2e20_b549_11ef_bdbb_96000040dfb6row26_col2\" class=\"data row26 col2\" >4.2%</td>\n",
       "                        <td id=\"T_4f6d2e20_b549_11ef_bdbb_96000040dfb6row26_col3\" class=\"data row26 col3\" >5.1%</td>\n",
       "                        <td id=\"T_4f6d2e20_b549_11ef_bdbb_96000040dfb6row26_col4\" class=\"data row26 col4\" >5.0%</td>\n",
       "                        <td id=\"T_4f6d2e20_b549_11ef_bdbb_96000040dfb6row26_col5\" class=\"data row26 col5\" >6.5%</td>\n",
       "            </tr>\n",
       "            <tr>\n",
       "                        <th id=\"T_4f6d2e20_b549_11ef_bdbb_96000040dfb6level0_row27\" class=\"row_heading level0 row27\" >2020-01-28</th>\n",
       "                        <td id=\"T_4f6d2e20_b549_11ef_bdbb_96000040dfb6row27_col0\" class=\"data row27 col0\" >100.0%</td>\n",
       "                        <td id=\"T_4f6d2e20_b549_11ef_bdbb_96000040dfb6row27_col1\" class=\"data row27 col1\" >4.2%</td>\n",
       "                        <td id=\"T_4f6d2e20_b549_11ef_bdbb_96000040dfb6row27_col2\" class=\"data row27 col2\" >4.7%</td>\n",
       "                        <td id=\"T_4f6d2e20_b549_11ef_bdbb_96000040dfb6row27_col3\" class=\"data row27 col3\" >6.0%</td>\n",
       "                        <td id=\"T_4f6d2e20_b549_11ef_bdbb_96000040dfb6row27_col4\" class=\"data row27 col4\" >6.5%</td>\n",
       "                        <td id=\"T_4f6d2e20_b549_11ef_bdbb_96000040dfb6row27_col5\" class=\"data row27 col5\" >5.9%</td>\n",
       "            </tr>\n",
       "            <tr>\n",
       "                        <th id=\"T_4f6d2e20_b549_11ef_bdbb_96000040dfb6level0_row28\" class=\"row_heading level0 row28\" >2020-01-29</th>\n",
       "                        <td id=\"T_4f6d2e20_b549_11ef_bdbb_96000040dfb6row28_col0\" class=\"data row28 col0\" >100.0%</td>\n",
       "                        <td id=\"T_4f6d2e20_b549_11ef_bdbb_96000040dfb6row28_col1\" class=\"data row28 col1\" >4.2%</td>\n",
       "                        <td id=\"T_4f6d2e20_b549_11ef_bdbb_96000040dfb6row28_col2\" class=\"data row28 col2\" >4.2%</td>\n",
       "                        <td id=\"T_4f6d2e20_b549_11ef_bdbb_96000040dfb6row28_col3\" class=\"data row28 col3\" >5.0%</td>\n",
       "                        <td id=\"T_4f6d2e20_b549_11ef_bdbb_96000040dfb6row28_col4\" class=\"data row28 col4\" >4.6%</td>\n",
       "                        <td id=\"T_4f6d2e20_b549_11ef_bdbb_96000040dfb6row28_col5\" class=\"data row28 col5\" >6.1%</td>\n",
       "            </tr>\n",
       "            <tr>\n",
       "                        <th id=\"T_4f6d2e20_b549_11ef_bdbb_96000040dfb6level0_row29\" class=\"row_heading level0 row29\" >2020-01-30</th>\n",
       "                        <td id=\"T_4f6d2e20_b549_11ef_bdbb_96000040dfb6row29_col0\" class=\"data row29 col0\" >100.0%</td>\n",
       "                        <td id=\"T_4f6d2e20_b549_11ef_bdbb_96000040dfb6row29_col1\" class=\"data row29 col1\" >4.3%</td>\n",
       "                        <td id=\"T_4f6d2e20_b549_11ef_bdbb_96000040dfb6row29_col2\" class=\"data row29 col2\" >4.5%</td>\n",
       "                        <td id=\"T_4f6d2e20_b549_11ef_bdbb_96000040dfb6row29_col3\" class=\"data row29 col3\" >5.0%</td>\n",
       "                        <td id=\"T_4f6d2e20_b549_11ef_bdbb_96000040dfb6row29_col4\" class=\"data row29 col4\" >5.7%</td>\n",
       "                        <td id=\"T_4f6d2e20_b549_11ef_bdbb_96000040dfb6row29_col5\" class=\"data row29 col5\" >6.3%</td>\n",
       "            </tr>\n",
       "            <tr>\n",
       "                        <th id=\"T_4f6d2e20_b549_11ef_bdbb_96000040dfb6level0_row30\" class=\"row_heading level0 row30\" >2020-01-31</th>\n",
       "                        <td id=\"T_4f6d2e20_b549_11ef_bdbb_96000040dfb6row30_col0\" class=\"data row30 col0\" >100.0%</td>\n",
       "                        <td id=\"T_4f6d2e20_b549_11ef_bdbb_96000040dfb6row30_col1\" class=\"data row30 col1\" >3.5%</td>\n",
       "                        <td id=\"T_4f6d2e20_b549_11ef_bdbb_96000040dfb6row30_col2\" class=\"data row30 col2\" >3.9%</td>\n",
       "                        <td id=\"T_4f6d2e20_b549_11ef_bdbb_96000040dfb6row30_col3\" class=\"data row30 col3\" >5.1%</td>\n",
       "                        <td id=\"T_4f6d2e20_b549_11ef_bdbb_96000040dfb6row30_col4\" class=\"data row30 col4\" >5.3%</td>\n",
       "                        <td id=\"T_4f6d2e20_b549_11ef_bdbb_96000040dfb6row30_col5\" class=\"data row30 col5\" >6.6%</td>\n",
       "            </tr>\n",
       "            <tr>\n",
       "                        <th id=\"T_4f6d2e20_b549_11ef_bdbb_96000040dfb6level0_row31\" class=\"row_heading level0 row31\" >2020-02-01</th>\n",
       "                        <td id=\"T_4f6d2e20_b549_11ef_bdbb_96000040dfb6row31_col0\" class=\"data row31 col0\" >100.0%</td>\n",
       "                        <td id=\"T_4f6d2e20_b549_11ef_bdbb_96000040dfb6row31_col1\" class=\"data row31 col1\" >3.9%</td>\n",
       "                        <td id=\"T_4f6d2e20_b549_11ef_bdbb_96000040dfb6row31_col2\" class=\"data row31 col2\" >4.1%</td>\n",
       "                        <td id=\"T_4f6d2e20_b549_11ef_bdbb_96000040dfb6row31_col3\" class=\"data row31 col3\" >4.4%</td>\n",
       "                        <td id=\"T_4f6d2e20_b549_11ef_bdbb_96000040dfb6row31_col4\" class=\"data row31 col4\" >5.9%</td>\n",
       "                        <td id=\"T_4f6d2e20_b549_11ef_bdbb_96000040dfb6row31_col5\" class=\"data row31 col5\" >6.4%</td>\n",
       "            </tr>\n",
       "    </tbody></table>"
      ],
      "text/plain": [
       "<pandas.io.formats.style.Styler at 0x7fdec91aabe0>"
      ]
     },
     "execution_count": 17,
     "metadata": {},
     "output_type": "execute_result"
    }
   ],
   "source": [
    "retention(data, \"2020-01-01\", \"2020-02-01\", 5)"
   ]
  },
  {
   "cell_type": "markdown",
   "metadata": {},
   "source": [
    "Видим, что функция отрабатывает корректно и мы видим heatmap с подсчитанным ретеншеном в процентах."
   ]
  },
  {
   "cell_type": "markdown",
   "metadata": {},
   "source": [
    "### Задание 2\n",
    "\n",
    "Имеются результаты A/B теста, в котором двум группам пользователей предлагались различные наборы акционных предложений. Известно, что ARPU в тестовой группе выше на 5%, чем в контрольной. При этом в контрольной группе 1928 игроков из 202103 оказались платящими, а в тестовой – 1805 из 202667.\n",
    "\n",
    "Какой набор предложений можно считать лучшим? Какие метрики стоит проанализировать для принятия правильного решения и как?"
   ]
  },
  {
   "cell_type": "markdown",
   "metadata": {},
   "source": [
    "Проведем предварительный анализ данных."
   ]
  },
  {
   "cell_type": "code",
   "execution_count": 18,
   "metadata": {},
   "outputs": [],
   "source": [
    "df = pd.read_csv('Проект_1_Задание_2.csv', sep=';')"
   ]
  },
  {
   "cell_type": "code",
   "execution_count": 19,
   "metadata": {},
   "outputs": [
    {
     "name": "stdout",
     "output_type": "stream",
     "text": [
      "<class 'pandas.core.frame.DataFrame'>\n",
      "RangeIndex: 404770 entries, 0 to 404769\n",
      "Data columns (total 3 columns):\n",
      " #   Column     Non-Null Count   Dtype \n",
      "---  ------     --------------   ----- \n",
      " 0   user_id    404770 non-null  int64 \n",
      " 1   revenue    404770 non-null  int64 \n",
      " 2   testgroup  404770 non-null  object\n",
      "dtypes: int64(2), object(1)\n",
      "memory usage: 9.3+ MB\n"
     ]
    }
   ],
   "source": [
    "df.info()"
   ]
  },
  {
   "cell_type": "code",
   "execution_count": 20,
   "metadata": {},
   "outputs": [
    {
     "data": {
      "text/html": [
       "<div>\n",
       "<style scoped>\n",
       "    .dataframe tbody tr th:only-of-type {\n",
       "        vertical-align: middle;\n",
       "    }\n",
       "\n",
       "    .dataframe tbody tr th {\n",
       "        vertical-align: top;\n",
       "    }\n",
       "\n",
       "    .dataframe thead th {\n",
       "        text-align: right;\n",
       "    }\n",
       "</style>\n",
       "<table border=\"1\" class=\"dataframe\">\n",
       "  <thead>\n",
       "    <tr style=\"text-align: right;\">\n",
       "      <th></th>\n",
       "      <th>user_id</th>\n",
       "      <th>revenue</th>\n",
       "      <th>testgroup</th>\n",
       "    </tr>\n",
       "  </thead>\n",
       "  <tbody>\n",
       "    <tr>\n",
       "      <th>0</th>\n",
       "      <td>1</td>\n",
       "      <td>0</td>\n",
       "      <td>b</td>\n",
       "    </tr>\n",
       "    <tr>\n",
       "      <th>1</th>\n",
       "      <td>2</td>\n",
       "      <td>0</td>\n",
       "      <td>a</td>\n",
       "    </tr>\n",
       "    <tr>\n",
       "      <th>2</th>\n",
       "      <td>3</td>\n",
       "      <td>0</td>\n",
       "      <td>a</td>\n",
       "    </tr>\n",
       "    <tr>\n",
       "      <th>3</th>\n",
       "      <td>4</td>\n",
       "      <td>0</td>\n",
       "      <td>b</td>\n",
       "    </tr>\n",
       "    <tr>\n",
       "      <th>4</th>\n",
       "      <td>5</td>\n",
       "      <td>0</td>\n",
       "      <td>b</td>\n",
       "    </tr>\n",
       "  </tbody>\n",
       "</table>\n",
       "</div>"
      ],
      "text/plain": [
       "   user_id  revenue testgroup\n",
       "0        1        0         b\n",
       "1        2        0         a\n",
       "2        3        0         a\n",
       "3        4        0         b\n",
       "4        5        0         b"
      ]
     },
     "execution_count": 20,
     "metadata": {},
     "output_type": "execute_result"
    }
   ],
   "source": [
    "df.head()"
   ]
  },
  {
   "cell_type": "code",
   "execution_count": 21,
   "metadata": {},
   "outputs": [
    {
     "data": {
      "text/html": [
       "<div>\n",
       "<style scoped>\n",
       "    .dataframe tbody tr th:only-of-type {\n",
       "        vertical-align: middle;\n",
       "    }\n",
       "\n",
       "    .dataframe tbody tr th {\n",
       "        vertical-align: top;\n",
       "    }\n",
       "\n",
       "    .dataframe thead th {\n",
       "        text-align: right;\n",
       "    }\n",
       "</style>\n",
       "<table border=\"1\" class=\"dataframe\">\n",
       "  <thead>\n",
       "    <tr style=\"text-align: right;\">\n",
       "      <th></th>\n",
       "      <th>user_id</th>\n",
       "      <th>revenue</th>\n",
       "    </tr>\n",
       "  </thead>\n",
       "  <tbody>\n",
       "    <tr>\n",
       "      <th>count</th>\n",
       "      <td>404770.000000</td>\n",
       "      <td>404770.000000</td>\n",
       "    </tr>\n",
       "    <tr>\n",
       "      <th>mean</th>\n",
       "      <td>202385.500000</td>\n",
       "      <td>26.083435</td>\n",
       "    </tr>\n",
       "    <tr>\n",
       "      <th>std</th>\n",
       "      <td>116847.178567</td>\n",
       "      <td>681.652928</td>\n",
       "    </tr>\n",
       "    <tr>\n",
       "      <th>min</th>\n",
       "      <td>1.000000</td>\n",
       "      <td>0.000000</td>\n",
       "    </tr>\n",
       "    <tr>\n",
       "      <th>25%</th>\n",
       "      <td>101193.250000</td>\n",
       "      <td>0.000000</td>\n",
       "    </tr>\n",
       "    <tr>\n",
       "      <th>50%</th>\n",
       "      <td>202385.500000</td>\n",
       "      <td>0.000000</td>\n",
       "    </tr>\n",
       "    <tr>\n",
       "      <th>75%</th>\n",
       "      <td>303577.750000</td>\n",
       "      <td>0.000000</td>\n",
       "    </tr>\n",
       "    <tr>\n",
       "      <th>max</th>\n",
       "      <td>404770.000000</td>\n",
       "      <td>37433.000000</td>\n",
       "    </tr>\n",
       "  </tbody>\n",
       "</table>\n",
       "</div>"
      ],
      "text/plain": [
       "             user_id        revenue\n",
       "count  404770.000000  404770.000000\n",
       "mean   202385.500000      26.083435\n",
       "std    116847.178567     681.652928\n",
       "min         1.000000       0.000000\n",
       "25%    101193.250000       0.000000\n",
       "50%    202385.500000       0.000000\n",
       "75%    303577.750000       0.000000\n",
       "max    404770.000000   37433.000000"
      ]
     },
     "execution_count": 21,
     "metadata": {},
     "output_type": "execute_result"
    }
   ],
   "source": [
    "df.describe()"
   ]
  },
  {
   "cell_type": "code",
   "execution_count": 22,
   "metadata": {},
   "outputs": [
    {
     "data": {
      "text/plain": [
       "testgroup\n",
       "b    202667\n",
       "a    202103\n",
       "dtype: int64"
      ]
     },
     "execution_count": 22,
     "metadata": {},
     "output_type": "execute_result"
    }
   ],
   "source": [
    "df.value_counts('testgroup')"
   ]
  },
  {
   "cell_type": "markdown",
   "metadata": {},
   "source": [
    "#### Вывод на основе первичного рассматрения данных:\n",
    "1) В датасете нет пропущенных значений, в контрольной группе - 202103 пользователя, в тестовой - 202667  \n",
    "2) В датасете две группы, тестовая и контрольная, с примерно равным количеством данных\n",
    "\n",
    "Выделим контрольную и тестовую группу в отдельные датафреймы"
   ]
  },
  {
   "cell_type": "code",
   "execution_count": 23,
   "metadata": {},
   "outputs": [],
   "source": [
    "df_control = df.query('testgroup == \"a\"')\n",
    "df_test = df.query('testgroup == \"b\"')"
   ]
  },
  {
   "cell_type": "code",
   "execution_count": 24,
   "metadata": {},
   "outputs": [
    {
     "data": {
      "text/html": [
       "<div>\n",
       "<style scoped>\n",
       "    .dataframe tbody tr th:only-of-type {\n",
       "        vertical-align: middle;\n",
       "    }\n",
       "\n",
       "    .dataframe tbody tr th {\n",
       "        vertical-align: top;\n",
       "    }\n",
       "\n",
       "    .dataframe thead th {\n",
       "        text-align: right;\n",
       "    }\n",
       "</style>\n",
       "<table border=\"1\" class=\"dataframe\">\n",
       "  <thead>\n",
       "    <tr style=\"text-align: right;\">\n",
       "      <th></th>\n",
       "      <th>user_id</th>\n",
       "      <th>revenue</th>\n",
       "    </tr>\n",
       "  </thead>\n",
       "  <tbody>\n",
       "    <tr>\n",
       "      <th>count</th>\n",
       "      <td>202103.000000</td>\n",
       "      <td>202103.000000</td>\n",
       "    </tr>\n",
       "    <tr>\n",
       "      <th>mean</th>\n",
       "      <td>202555.909843</td>\n",
       "      <td>25.413720</td>\n",
       "    </tr>\n",
       "    <tr>\n",
       "      <th>std</th>\n",
       "      <td>116802.329266</td>\n",
       "      <td>920.768137</td>\n",
       "    </tr>\n",
       "    <tr>\n",
       "      <th>min</th>\n",
       "      <td>2.000000</td>\n",
       "      <td>0.000000</td>\n",
       "    </tr>\n",
       "    <tr>\n",
       "      <th>25%</th>\n",
       "      <td>101502.500000</td>\n",
       "      <td>0.000000</td>\n",
       "    </tr>\n",
       "    <tr>\n",
       "      <th>50%</th>\n",
       "      <td>202988.000000</td>\n",
       "      <td>0.000000</td>\n",
       "    </tr>\n",
       "    <tr>\n",
       "      <th>75%</th>\n",
       "      <td>303559.000000</td>\n",
       "      <td>0.000000</td>\n",
       "    </tr>\n",
       "    <tr>\n",
       "      <th>max</th>\n",
       "      <td>404769.000000</td>\n",
       "      <td>37433.000000</td>\n",
       "    </tr>\n",
       "  </tbody>\n",
       "</table>\n",
       "</div>"
      ],
      "text/plain": [
       "             user_id        revenue\n",
       "count  202103.000000  202103.000000\n",
       "mean   202555.909843      25.413720\n",
       "std    116802.329266     920.768137\n",
       "min         2.000000       0.000000\n",
       "25%    101502.500000       0.000000\n",
       "50%    202988.000000       0.000000\n",
       "75%    303559.000000       0.000000\n",
       "max    404769.000000   37433.000000"
      ]
     },
     "execution_count": 24,
     "metadata": {},
     "output_type": "execute_result"
    }
   ],
   "source": [
    "df_control.describe()"
   ]
  },
  {
   "cell_type": "code",
   "execution_count": 25,
   "metadata": {},
   "outputs": [
    {
     "data": {
      "text/html": [
       "<div>\n",
       "<style scoped>\n",
       "    .dataframe tbody tr th:only-of-type {\n",
       "        vertical-align: middle;\n",
       "    }\n",
       "\n",
       "    .dataframe tbody tr th {\n",
       "        vertical-align: top;\n",
       "    }\n",
       "\n",
       "    .dataframe thead th {\n",
       "        text-align: right;\n",
       "    }\n",
       "</style>\n",
       "<table border=\"1\" class=\"dataframe\">\n",
       "  <thead>\n",
       "    <tr style=\"text-align: right;\">\n",
       "      <th></th>\n",
       "      <th>user_id</th>\n",
       "      <th>revenue</th>\n",
       "    </tr>\n",
       "  </thead>\n",
       "  <tbody>\n",
       "    <tr>\n",
       "      <th>count</th>\n",
       "      <td>202667.000000</td>\n",
       "      <td>202667.000000</td>\n",
       "    </tr>\n",
       "    <tr>\n",
       "      <th>mean</th>\n",
       "      <td>202215.564389</td>\n",
       "      <td>26.751287</td>\n",
       "    </tr>\n",
       "    <tr>\n",
       "      <th>std</th>\n",
       "      <td>116891.926690</td>\n",
       "      <td>287.324162</td>\n",
       "    </tr>\n",
       "    <tr>\n",
       "      <th>min</th>\n",
       "      <td>1.000000</td>\n",
       "      <td>0.000000</td>\n",
       "    </tr>\n",
       "    <tr>\n",
       "      <th>25%</th>\n",
       "      <td>100855.500000</td>\n",
       "      <td>0.000000</td>\n",
       "    </tr>\n",
       "    <tr>\n",
       "      <th>50%</th>\n",
       "      <td>201821.000000</td>\n",
       "      <td>0.000000</td>\n",
       "    </tr>\n",
       "    <tr>\n",
       "      <th>75%</th>\n",
       "      <td>303602.500000</td>\n",
       "      <td>0.000000</td>\n",
       "    </tr>\n",
       "    <tr>\n",
       "      <th>max</th>\n",
       "      <td>404770.000000</td>\n",
       "      <td>4000.000000</td>\n",
       "    </tr>\n",
       "  </tbody>\n",
       "</table>\n",
       "</div>"
      ],
      "text/plain": [
       "             user_id        revenue\n",
       "count  202667.000000  202667.000000\n",
       "mean   202215.564389      26.751287\n",
       "std    116891.926690     287.324162\n",
       "min         1.000000       0.000000\n",
       "25%    100855.500000       0.000000\n",
       "50%    201821.000000       0.000000\n",
       "75%    303602.500000       0.000000\n",
       "max    404770.000000    4000.000000"
      ]
     },
     "execution_count": 25,
     "metadata": {},
     "output_type": "execute_result"
    }
   ],
   "source": [
    "df_test.describe()"
   ]
  },
  {
   "cell_type": "markdown",
   "metadata": {},
   "source": [
    "Посмотрим информацию только о платящих пользователях"
   ]
  },
  {
   "cell_type": "code",
   "execution_count": 26,
   "metadata": {},
   "outputs": [
    {
     "data": {
      "text/html": [
       "<div>\n",
       "<style scoped>\n",
       "    .dataframe tbody tr th:only-of-type {\n",
       "        vertical-align: middle;\n",
       "    }\n",
       "\n",
       "    .dataframe tbody tr th {\n",
       "        vertical-align: top;\n",
       "    }\n",
       "\n",
       "    .dataframe thead th {\n",
       "        text-align: right;\n",
       "    }\n",
       "</style>\n",
       "<table border=\"1\" class=\"dataframe\">\n",
       "  <thead>\n",
       "    <tr style=\"text-align: right;\">\n",
       "      <th></th>\n",
       "      <th>user_id</th>\n",
       "      <th>revenue</th>\n",
       "    </tr>\n",
       "  </thead>\n",
       "  <tbody>\n",
       "    <tr>\n",
       "      <th>count</th>\n",
       "      <td>1928.000000</td>\n",
       "      <td>1928.000000</td>\n",
       "    </tr>\n",
       "    <tr>\n",
       "      <th>mean</th>\n",
       "      <td>200152.677905</td>\n",
       "      <td>2663.998444</td>\n",
       "    </tr>\n",
       "    <tr>\n",
       "      <th>std</th>\n",
       "      <td>116596.504905</td>\n",
       "      <td>9049.039763</td>\n",
       "    </tr>\n",
       "    <tr>\n",
       "      <th>min</th>\n",
       "      <td>73.000000</td>\n",
       "      <td>200.000000</td>\n",
       "    </tr>\n",
       "    <tr>\n",
       "      <th>25%</th>\n",
       "      <td>99323.000000</td>\n",
       "      <td>257.000000</td>\n",
       "    </tr>\n",
       "    <tr>\n",
       "      <th>50%</th>\n",
       "      <td>199854.500000</td>\n",
       "      <td>311.000000</td>\n",
       "    </tr>\n",
       "    <tr>\n",
       "      <th>75%</th>\n",
       "      <td>299664.250000</td>\n",
       "      <td>361.000000</td>\n",
       "    </tr>\n",
       "    <tr>\n",
       "      <th>max</th>\n",
       "      <td>404768.000000</td>\n",
       "      <td>37433.000000</td>\n",
       "    </tr>\n",
       "  </tbody>\n",
       "</table>\n",
       "</div>"
      ],
      "text/plain": [
       "             user_id       revenue\n",
       "count    1928.000000   1928.000000\n",
       "mean   200152.677905   2663.998444\n",
       "std    116596.504905   9049.039763\n",
       "min        73.000000    200.000000\n",
       "25%     99323.000000    257.000000\n",
       "50%    199854.500000    311.000000\n",
       "75%    299664.250000    361.000000\n",
       "max    404768.000000  37433.000000"
      ]
     },
     "execution_count": 26,
     "metadata": {},
     "output_type": "execute_result"
    }
   ],
   "source": [
    "df_control.query('revenue > 0').describe()"
   ]
  },
  {
   "cell_type": "code",
   "execution_count": 27,
   "metadata": {},
   "outputs": [
    {
     "data": {
      "text/html": [
       "<div>\n",
       "<style scoped>\n",
       "    .dataframe tbody tr th:only-of-type {\n",
       "        vertical-align: middle;\n",
       "    }\n",
       "\n",
       "    .dataframe tbody tr th {\n",
       "        vertical-align: top;\n",
       "    }\n",
       "\n",
       "    .dataframe thead th {\n",
       "        text-align: right;\n",
       "    }\n",
       "</style>\n",
       "<table border=\"1\" class=\"dataframe\">\n",
       "  <thead>\n",
       "    <tr style=\"text-align: right;\">\n",
       "      <th></th>\n",
       "      <th>user_id</th>\n",
       "      <th>revenue</th>\n",
       "    </tr>\n",
       "  </thead>\n",
       "  <tbody>\n",
       "    <tr>\n",
       "      <th>count</th>\n",
       "      <td>1805.000000</td>\n",
       "      <td>1805.000000</td>\n",
       "    </tr>\n",
       "    <tr>\n",
       "      <th>mean</th>\n",
       "      <td>205834.548476</td>\n",
       "      <td>3003.658172</td>\n",
       "    </tr>\n",
       "    <tr>\n",
       "      <th>std</th>\n",
       "      <td>116400.045485</td>\n",
       "      <td>572.619709</td>\n",
       "    </tr>\n",
       "    <tr>\n",
       "      <th>min</th>\n",
       "      <td>161.000000</td>\n",
       "      <td>2000.000000</td>\n",
       "    </tr>\n",
       "    <tr>\n",
       "      <th>25%</th>\n",
       "      <td>106815.000000</td>\n",
       "      <td>2513.000000</td>\n",
       "    </tr>\n",
       "    <tr>\n",
       "      <th>50%</th>\n",
       "      <td>206651.000000</td>\n",
       "      <td>3022.000000</td>\n",
       "    </tr>\n",
       "    <tr>\n",
       "      <th>75%</th>\n",
       "      <td>304907.000000</td>\n",
       "      <td>3478.000000</td>\n",
       "    </tr>\n",
       "    <tr>\n",
       "      <th>max</th>\n",
       "      <td>404526.000000</td>\n",
       "      <td>4000.000000</td>\n",
       "    </tr>\n",
       "  </tbody>\n",
       "</table>\n",
       "</div>"
      ],
      "text/plain": [
       "             user_id      revenue\n",
       "count    1805.000000  1805.000000\n",
       "mean   205834.548476  3003.658172\n",
       "std    116400.045485   572.619709\n",
       "min       161.000000  2000.000000\n",
       "25%    106815.000000  2513.000000\n",
       "50%    206651.000000  3022.000000\n",
       "75%    304907.000000  3478.000000\n",
       "max    404526.000000  4000.000000"
      ]
     },
     "execution_count": 27,
     "metadata": {},
     "output_type": "execute_result"
    }
   ],
   "source": [
    "df_test.query('revenue > 0').describe()"
   ]
  },
  {
   "cell_type": "code",
   "execution_count": 28,
   "metadata": {},
   "outputs": [
    {
     "data": {
      "text/plain": [
       "<matplotlib.axes._subplots.AxesSubplot at 0x7fdec8dc8400>"
      ]
     },
     "execution_count": 28,
     "metadata": {},
     "output_type": "execute_result"
    },
    {
     "data": {
      "image/png": "[encoded data removed]",
      "text/plain": [
       "<Figure size 432x288 with 1 Axes>"
      ]
     },
     "metadata": {
      "needs_background": "light"
     },
     "output_type": "display_data"
    }
   ],
   "source": [
    "sns.histplot(df_test.query('revenue > 0')['revenue'])"
   ]
  },
  {
   "cell_type": "code",
   "execution_count": 29,
   "metadata": {},
   "outputs": [
    {
     "data": {
      "text/plain": [
       "<matplotlib.axes._subplots.AxesSubplot at 0x7fdec8dbdb38>"
      ]
     },
     "execution_count": 29,
     "metadata": {},
     "output_type": "execute_result"
    },
    {
     "data": {
      "image/png": "[encoded data removed]",
      "text/plain": [
       "<Figure size 432x288 with 1 Axes>"
      ]
     },
     "metadata": {
      "needs_background": "light"
     },
     "output_type": "display_data"
    }
   ],
   "source": [
    "sns.histplot(df_control.query('revenue > 0')['revenue'])"
   ]
  },
  {
   "cell_type": "markdown",
   "metadata": {},
   "source": [
    "Количество платящих пользователей в тестовой группе - 1805, в контрольной группе - 1928.\n",
    "Видим что в контрольной группе персентиль 75% revenue = 361, а максимальное revenue = 37433, то есть имеется сильный выброс, который влияет на mean. Видно что такая ситуация не повторяется в тестовой группе. Все же считаю это не выбросом, просто есть пользователи, которые много купили."
   ]
  },
  {
   "cell_type": "markdown",
   "metadata": {},
   "source": [
    "Создаем датасет с количеством платящих пользователей и общим количеством пользователей по тестовым группам"
   ]
  },
  {
   "cell_type": "code",
   "execution_count": 30,
   "metadata": {},
   "outputs": [],
   "source": [
    "df_rev = df.query('revenue > 0').groupby('testgroup', as_index = False).agg(paid_cnt = ('user_id', 'nunique'))\n",
    "df_rev = df_rev\\\n",
    ".merge(df.groupby('testgroup', as_index = False).agg(users_cnt = ('user_id', 'nunique')), on = 'testgroup')"
   ]
  },
  {
   "cell_type": "code",
   "execution_count": 31,
   "metadata": {},
   "outputs": [
    {
     "data": {
      "text/html": [
       "<div>\n",
       "<style scoped>\n",
       "    .dataframe tbody tr th:only-of-type {\n",
       "        vertical-align: middle;\n",
       "    }\n",
       "\n",
       "    .dataframe tbody tr th {\n",
       "        vertical-align: top;\n",
       "    }\n",
       "\n",
       "    .dataframe thead th {\n",
       "        text-align: right;\n",
       "    }\n",
       "</style>\n",
       "<table border=\"1\" class=\"dataframe\">\n",
       "  <thead>\n",
       "    <tr style=\"text-align: right;\">\n",
       "      <th></th>\n",
       "      <th>testgroup</th>\n",
       "      <th>paid_cnt</th>\n",
       "      <th>users_cnt</th>\n",
       "    </tr>\n",
       "  </thead>\n",
       "  <tbody>\n",
       "    <tr>\n",
       "      <th>0</th>\n",
       "      <td>a</td>\n",
       "      <td>1928</td>\n",
       "      <td>202103</td>\n",
       "    </tr>\n",
       "    <tr>\n",
       "      <th>1</th>\n",
       "      <td>b</td>\n",
       "      <td>1805</td>\n",
       "      <td>202667</td>\n",
       "    </tr>\n",
       "  </tbody>\n",
       "</table>\n",
       "</div>"
      ],
      "text/plain": [
       "  testgroup  paid_cnt  users_cnt\n",
       "0         a      1928     202103\n",
       "1         b      1805     202667"
      ]
     },
     "execution_count": 31,
     "metadata": {},
     "output_type": "execute_result"
    }
   ],
   "source": [
    "df_rev"
   ]
  },
  {
   "cell_type": "markdown",
   "metadata": {},
   "source": [
    "## Конверсия"
   ]
  },
  {
   "cell_type": "code",
   "execution_count": 32,
   "metadata": {},
   "outputs": [
    {
     "data": {
      "text/html": [
       "<div>\n",
       "<style scoped>\n",
       "    .dataframe tbody tr th:only-of-type {\n",
       "        vertical-align: middle;\n",
       "    }\n",
       "\n",
       "    .dataframe tbody tr th {\n",
       "        vertical-align: top;\n",
       "    }\n",
       "\n",
       "    .dataframe thead th {\n",
       "        text-align: right;\n",
       "    }\n",
       "</style>\n",
       "<table border=\"1\" class=\"dataframe\">\n",
       "  <thead>\n",
       "    <tr style=\"text-align: right;\">\n",
       "      <th></th>\n",
       "      <th>testgroup</th>\n",
       "      <th>paid_cnt</th>\n",
       "      <th>users_cnt</th>\n",
       "      <th>CR</th>\n",
       "    </tr>\n",
       "  </thead>\n",
       "  <tbody>\n",
       "    <tr>\n",
       "      <th>0</th>\n",
       "      <td>a</td>\n",
       "      <td>1928</td>\n",
       "      <td>202103</td>\n",
       "      <td>0.953969</td>\n",
       "    </tr>\n",
       "    <tr>\n",
       "      <th>1</th>\n",
       "      <td>b</td>\n",
       "      <td>1805</td>\n",
       "      <td>202667</td>\n",
       "      <td>0.890624</td>\n",
       "    </tr>\n",
       "  </tbody>\n",
       "</table>\n",
       "</div>"
      ],
      "text/plain": [
       "  testgroup  paid_cnt  users_cnt        CR\n",
       "0         a      1928     202103  0.953969\n",
       "1         b      1805     202667  0.890624"
      ]
     },
     "execution_count": 32,
     "metadata": {},
     "output_type": "execute_result"
    }
   ],
   "source": [
    "df_rev['CR'] = (df_rev['paid_cnt'] / df_rev['users_cnt']) * 100\n",
    "df_rev"
   ]
  },
  {
   "cell_type": "markdown",
   "metadata": {},
   "source": [
    "Конверсия в контрольной группе выше чем в тестовой, для оценки значимости проведем ztest  \n",
    "H0 : Конверсии в группах равны  \n",
    "H1 : Конверсии в группах различаются "
   ]
  },
  {
   "cell_type": "code",
   "execution_count": 33,
   "metadata": {},
   "outputs": [
    {
     "data": {
      "text/plain": [
       "(2.108028495889841, 0.035028524642854865)"
      ]
     },
     "execution_count": 33,
     "metadata": {},
     "output_type": "execute_result"
    }
   ],
   "source": [
    "paid_cnt = df_rev['paid_cnt'].values \n",
    "users_cnt = df_rev['users_cnt'].values \n",
    "\n",
    "\n",
    "smp.proportions_ztest(paid_cnt, users_cnt)"
   ]
  },
  {
   "cell_type": "markdown",
   "metadata": {},
   "source": [
    "Отвергаем нулевую гипотезу. pvalue < 0.05 Есть статистически значимая разница в конверсии."
   ]
  },
  {
   "cell_type": "markdown",
   "metadata": {},
   "source": [
    "## ARPU"
   ]
  },
  {
   "cell_type": "code",
   "execution_count": 34,
   "metadata": {},
   "outputs": [
    {
     "name": "stdout",
     "output_type": "stream",
     "text": [
      "ARPU в тестовой группе - 26.75128659327863, ARPU в контрольной группе - 25.413719736965806, разница на 5.26%\n"
     ]
    }
   ],
   "source": [
    "ARPU_test = df_test.revenue.mean()\n",
    "ARPU_control = df_control.revenue.mean()\n",
    "ARPU_dif = round((ARPU_test - ARPU_control) / ARPU_control * 100, 2) \n",
    "print(f'ARPU в тестовой группе - {ARPU_test}, ARPU в контрольной группе - {ARPU_control}, разница на {ARPU_dif}%')"
   ]
  },
  {
   "cell_type": "markdown",
   "metadata": {},
   "source": [
    "ARPU в тестовой группе выше чем в контрольной на 5.26%   \n",
    "\n",
    "Проверим данные на нормальность"
   ]
  },
  {
   "cell_type": "code",
   "execution_count": 35,
   "metadata": {},
   "outputs": [
    {
     "data": {
      "text/html": [
       "<div>\n",
       "<style scoped>\n",
       "    .dataframe tbody tr th:only-of-type {\n",
       "        vertical-align: middle;\n",
       "    }\n",
       "\n",
       "    .dataframe tbody tr th {\n",
       "        vertical-align: top;\n",
       "    }\n",
       "\n",
       "    .dataframe thead th {\n",
       "        text-align: right;\n",
       "    }\n",
       "</style>\n",
       "<table border=\"1\" class=\"dataframe\">\n",
       "  <thead>\n",
       "    <tr style=\"text-align: right;\">\n",
       "      <th></th>\n",
       "      <th>W</th>\n",
       "      <th>pval</th>\n",
       "      <th>normal</th>\n",
       "    </tr>\n",
       "  </thead>\n",
       "  <tbody>\n",
       "    <tr>\n",
       "      <th>revenue</th>\n",
       "      <td>326622.395409</td>\n",
       "      <td>0.0</td>\n",
       "      <td>False</td>\n",
       "    </tr>\n",
       "  </tbody>\n",
       "</table>\n",
       "</div>"
      ],
      "text/plain": [
       "                     W  pval  normal\n",
       "revenue  326622.395409   0.0   False"
      ]
     },
     "execution_count": 35,
     "metadata": {},
     "output_type": "execute_result"
    }
   ],
   "source": [
    "pg.normality(df_test.revenue, method='normaltest')"
   ]
  },
  {
   "cell_type": "code",
   "execution_count": 36,
   "metadata": {},
   "outputs": [
    {
     "data": {
      "text/html": [
       "<div>\n",
       "<style scoped>\n",
       "    .dataframe tbody tr th:only-of-type {\n",
       "        vertical-align: middle;\n",
       "    }\n",
       "\n",
       "    .dataframe tbody tr th {\n",
       "        vertical-align: top;\n",
       "    }\n",
       "\n",
       "    .dataframe thead th {\n",
       "        text-align: right;\n",
       "    }\n",
       "</style>\n",
       "<table border=\"1\" class=\"dataframe\">\n",
       "  <thead>\n",
       "    <tr style=\"text-align: right;\">\n",
       "      <th></th>\n",
       "      <th>W</th>\n",
       "      <th>pval</th>\n",
       "      <th>normal</th>\n",
       "    </tr>\n",
       "  </thead>\n",
       "  <tbody>\n",
       "    <tr>\n",
       "      <th>revenue</th>\n",
       "      <td>585152.731273</td>\n",
       "      <td>0.0</td>\n",
       "      <td>False</td>\n",
       "    </tr>\n",
       "  </tbody>\n",
       "</table>\n",
       "</div>"
      ],
      "text/plain": [
       "                     W  pval  normal\n",
       "revenue  585152.731273   0.0   False"
      ]
     },
     "execution_count": 36,
     "metadata": {},
     "output_type": "execute_result"
    }
   ],
   "source": [
    "pg.normality(df_control.revenue, method='normaltest')"
   ]
  },
  {
   "cell_type": "code",
   "execution_count": 37,
   "metadata": {},
   "outputs": [
    {
     "data": {
      "text/plain": [
       "<matplotlib.axes._subplots.AxesSubplot at 0x7fdea55f87b8>"
      ]
     },
     "execution_count": 37,
     "metadata": {},
     "output_type": "execute_result"
    },
    {
     "data": {
      "image/png": "[encoded data removed]",
      "text/plain": [
       "<Figure size 432x288 with 1 Axes>"
      ]
     },
     "metadata": {
      "needs_background": "light"
     },
     "output_type": "display_data"
    }
   ],
   "source": [
    "sns.histplot(df_test['revenue'])"
   ]
  },
  {
   "cell_type": "code",
   "execution_count": 38,
   "metadata": {},
   "outputs": [
    {
     "data": {
      "text/plain": [
       "<matplotlib.axes._subplots.AxesSubplot at 0x7fdea51eab38>"
      ]
     },
     "execution_count": 38,
     "metadata": {},
     "output_type": "execute_result"
    },
    {
     "data": {
      "image/png": "[encoded data removed]",
      "text/plain": [
       "<Figure size 432x288 with 1 Axes>"
      ]
     },
     "metadata": {
      "needs_background": "light"
     },
     "output_type": "display_data"
    }
   ],
   "source": [
    "sns.histplot(df_control['revenue'])"
   ]
  },
  {
   "cell_type": "markdown",
   "metadata": {},
   "source": [
    "Данные распределены ненормально, необходимо провести для оценки значимости критерий Манна-Уитни, но так как мы проверяем ARPU (а это средняя) значит он не годится. Следовательно будем использовать для оценки значимости ttest  \n",
    "H0 = Средняя выручка c пользователя не изменилась  \n",
    "H1 = Средняя выручка c пользоваеля изменилась"
   ]
  },
  {
   "cell_type": "code",
   "execution_count": 39,
   "metadata": {},
   "outputs": [
    {
     "data": {
      "text/html": [
       "<div>\n",
       "<style scoped>\n",
       "    .dataframe tbody tr th:only-of-type {\n",
       "        vertical-align: middle;\n",
       "    }\n",
       "\n",
       "    .dataframe tbody tr th {\n",
       "        vertical-align: top;\n",
       "    }\n",
       "\n",
       "    .dataframe thead th {\n",
       "        text-align: right;\n",
       "    }\n",
       "</style>\n",
       "<table border=\"1\" class=\"dataframe\">\n",
       "  <thead>\n",
       "    <tr style=\"text-align: right;\">\n",
       "      <th></th>\n",
       "      <th>T</th>\n",
       "      <th>dof</th>\n",
       "      <th>alternative</th>\n",
       "      <th>p-val</th>\n",
       "      <th>CI95%</th>\n",
       "      <th>cohen-d</th>\n",
       "      <th>BF10</th>\n",
       "      <th>power</th>\n",
       "    </tr>\n",
       "  </thead>\n",
       "  <tbody>\n",
       "    <tr>\n",
       "      <th>T-test</th>\n",
       "      <td>-0.623488</td>\n",
       "      <td>240991.130782</td>\n",
       "      <td>two-sided</td>\n",
       "      <td>0.532965</td>\n",
       "      <td>[-5.54, 2.87]</td>\n",
       "      <td>0.001962</td>\n",
       "      <td>0.004</td>\n",
       "      <td>0.095694</td>\n",
       "    </tr>\n",
       "  </tbody>\n",
       "</table>\n",
       "</div>"
      ],
      "text/plain": [
       "               T            dof alternative     p-val          CI95%  \\\n",
       "T-test -0.623488  240991.130782   two-sided  0.532965  [-5.54, 2.87]   \n",
       "\n",
       "         cohen-d   BF10     power  \n",
       "T-test  0.001962  0.004  0.095694  "
      ]
     },
     "execution_count": 39,
     "metadata": {},
     "output_type": "execute_result"
    }
   ],
   "source": [
    "pg.ttest(x = df.query('testgroup == \"a\"')['revenue'], y = df.query('testgroup == \"b\"')['revenue'])"
   ]
  },
  {
   "cell_type": "markdown",
   "metadata": {},
   "source": [
    "Не отвергаем нулевую гипотезу pvalue > 0.05. Изменения статистически не значимые"
   ]
  },
  {
   "cell_type": "markdown",
   "metadata": {},
   "source": [
    "## ARPPU"
   ]
  },
  {
   "cell_type": "code",
   "execution_count": 40,
   "metadata": {},
   "outputs": [
    {
     "name": "stdout",
     "output_type": "stream",
     "text": [
      "ARPPU в тестовой группе - 3003.6581717451522, ARPPU в контрольной группе - 2663.9984439834025, разница на 12.75%\n"
     ]
    }
   ],
   "source": [
    "ARPPU_test = df_test.query('revenue > 0').revenue.mean()\n",
    "ARPPU_control = df_control.query('revenue > 0').revenue.mean()\n",
    "ARPPU_dif = round((ARPPU_test - ARPPU_control) / ARPPU_control * 100, 2)\n",
    "print(f'ARPPU в тестовой группе - {ARPPU_test}, ARPPU в контрольной группе - {ARPPU_control}, разница на {ARPPU_dif}%')"
   ]
  },
  {
   "cell_type": "markdown",
   "metadata": {},
   "source": [
    "ARPPU в тестовой группе выше чем в контрольной на 12.75%  \n",
    "\n",
    "Проверим данные на нормальность"
   ]
  },
  {
   "cell_type": "code",
   "execution_count": 41,
   "metadata": {},
   "outputs": [
    {
     "data": {
      "text/html": [
       "<div>\n",
       "<style scoped>\n",
       "    .dataframe tbody tr th:only-of-type {\n",
       "        vertical-align: middle;\n",
       "    }\n",
       "\n",
       "    .dataframe tbody tr th {\n",
       "        vertical-align: top;\n",
       "    }\n",
       "\n",
       "    .dataframe thead th {\n",
       "        text-align: right;\n",
       "    }\n",
       "</style>\n",
       "<table border=\"1\" class=\"dataframe\">\n",
       "  <thead>\n",
       "    <tr style=\"text-align: right;\">\n",
       "      <th></th>\n",
       "      <th>W</th>\n",
       "      <th>pval</th>\n",
       "      <th>normal</th>\n",
       "    </tr>\n",
       "  </thead>\n",
       "  <tbody>\n",
       "    <tr>\n",
       "      <th>revenue</th>\n",
       "      <td>1068.860008</td>\n",
       "      <td>7.943249e-233</td>\n",
       "      <td>False</td>\n",
       "    </tr>\n",
       "  </tbody>\n",
       "</table>\n",
       "</div>"
      ],
      "text/plain": [
       "                   W           pval  normal\n",
       "revenue  1068.860008  7.943249e-233   False"
      ]
     },
     "execution_count": 41,
     "metadata": {},
     "output_type": "execute_result"
    }
   ],
   "source": [
    "pg.normality(df_test.query('revenue > 0').revenue, method='normaltest')"
   ]
  },
  {
   "cell_type": "code",
   "execution_count": 42,
   "metadata": {},
   "outputs": [
    {
     "data": {
      "text/html": [
       "<div>\n",
       "<style scoped>\n",
       "    .dataframe tbody tr th:only-of-type {\n",
       "        vertical-align: middle;\n",
       "    }\n",
       "\n",
       "    .dataframe tbody tr th {\n",
       "        vertical-align: top;\n",
       "    }\n",
       "\n",
       "    .dataframe thead th {\n",
       "        text-align: right;\n",
       "    }\n",
       "</style>\n",
       "<table border=\"1\" class=\"dataframe\">\n",
       "  <thead>\n",
       "    <tr style=\"text-align: right;\">\n",
       "      <th></th>\n",
       "      <th>W</th>\n",
       "      <th>pval</th>\n",
       "      <th>normal</th>\n",
       "    </tr>\n",
       "  </thead>\n",
       "  <tbody>\n",
       "    <tr>\n",
       "      <th>revenue</th>\n",
       "      <td>1394.945784</td>\n",
       "      <td>1.234161e-303</td>\n",
       "      <td>False</td>\n",
       "    </tr>\n",
       "  </tbody>\n",
       "</table>\n",
       "</div>"
      ],
      "text/plain": [
       "                   W           pval  normal\n",
       "revenue  1394.945784  1.234161e-303   False"
      ]
     },
     "execution_count": 42,
     "metadata": {},
     "output_type": "execute_result"
    }
   ],
   "source": [
    "pg.normality(df_control.query('revenue > 0').revenue, method='normaltest')"
   ]
  },
  {
   "cell_type": "code",
   "execution_count": 43,
   "metadata": {},
   "outputs": [
    {
     "data": {
      "text/plain": [
       "<matplotlib.axes._subplots.AxesSubplot at 0x7fdea5144588>"
      ]
     },
     "execution_count": 43,
     "metadata": {},
     "output_type": "execute_result"
    },
    {
     "data": {
      "image/png": "[encoded data removed]",
      "text/plain": [
       "<Figure size 432x288 with 1 Axes>"
      ]
     },
     "metadata": {
      "needs_background": "light"
     },
     "output_type": "display_data"
    }
   ],
   "source": [
    "sns.histplot(df_test.query('revenue > 0')['revenue'])"
   ]
  },
  {
   "cell_type": "code",
   "execution_count": 44,
   "metadata": {},
   "outputs": [
    {
     "data": {
      "text/plain": [
       "<matplotlib.axes._subplots.AxesSubplot at 0x7fdea50df0f0>"
      ]
     },
     "execution_count": 44,
     "metadata": {},
     "output_type": "execute_result"
    },
    {
     "data": {
      "image/png": "[encoded data removed]",
      "text/plain": [
       "<Figure size 432x288 with 1 Axes>"
      ]
     },
     "metadata": {
      "needs_background": "light"
     },
     "output_type": "display_data"
    }
   ],
   "source": [
    "sns.histplot(df_control.query('revenue > 0')['revenue'])"
   ]
  },
  {
   "cell_type": "markdown",
   "metadata": {},
   "source": [
    "Данные распределены ненормально, необходимо провести для оценки значимости критерий Манна-Уитни, но так как мы проверяем ARPPU (а это средняя) значит он не годится. Следовательно будем использовать для оценки значимости ttest  \n",
    "H0 = Средняя выручка платящего пользователя не изменилась  \n",
    "H1 = Средняя выручка платящего пользоваеля изменилась"
   ]
  },
  {
   "cell_type": "code",
   "execution_count": 45,
   "metadata": {},
   "outputs": [
    {
     "data": {
      "text/html": [
       "<div>\n",
       "<style scoped>\n",
       "    .dataframe tbody tr th:only-of-type {\n",
       "        vertical-align: middle;\n",
       "    }\n",
       "\n",
       "    .dataframe tbody tr th {\n",
       "        vertical-align: top;\n",
       "    }\n",
       "\n",
       "    .dataframe thead th {\n",
       "        text-align: right;\n",
       "    }\n",
       "</style>\n",
       "<table border=\"1\" class=\"dataframe\">\n",
       "  <thead>\n",
       "    <tr style=\"text-align: right;\">\n",
       "      <th></th>\n",
       "      <th>T</th>\n",
       "      <th>dof</th>\n",
       "      <th>alternative</th>\n",
       "      <th>p-val</th>\n",
       "      <th>CI95%</th>\n",
       "      <th>cohen-d</th>\n",
       "      <th>BF10</th>\n",
       "      <th>power</th>\n",
       "    </tr>\n",
       "  </thead>\n",
       "  <tbody>\n",
       "    <tr>\n",
       "      <th>T-test</th>\n",
       "      <td>-1.64463</td>\n",
       "      <td>1943.481522</td>\n",
       "      <td>two-sided</td>\n",
       "      <td>0.100208</td>\n",
       "      <td>[-744.7, 65.38]</td>\n",
       "      <td>0.052132</td>\n",
       "      <td>0.142</td>\n",
       "      <td>0.356381</td>\n",
       "    </tr>\n",
       "  </tbody>\n",
       "</table>\n",
       "</div>"
      ],
      "text/plain": [
       "              T          dof alternative     p-val            CI95%   cohen-d  \\\n",
       "T-test -1.64463  1943.481522   two-sided  0.100208  [-744.7, 65.38]  0.052132   \n",
       "\n",
       "         BF10     power  \n",
       "T-test  0.142  0.356381  "
      ]
     },
     "execution_count": 45,
     "metadata": {},
     "output_type": "execute_result"
    }
   ],
   "source": [
    "pg.ttest(x = df.query('testgroup == \"a\" and revenue > 0')['revenue'],\\\n",
    "         y = df.query('testgroup == \"b\" and revenue > 0')['revenue'])"
   ]
  },
  {
   "cell_type": "markdown",
   "metadata": {},
   "source": [
    "Не отвергаем нулевую гипотезу pvalue > 0.05. Изменения статистически не значимые"
   ]
  },
  {
   "cell_type": "markdown",
   "metadata": {},
   "source": [
    "## Вывод: Результаты показывают что изменения в тестовой группе по результатам метрик статистически не значимы. Вероятнее всего на это влияют серьезные выбросы в контрольной группе следовательно результаты теста можно считать некорректными, стоит провести новый А/Б тест"
   ]
  },
  {
   "cell_type": "markdown",
   "metadata": {},
   "source": [
    "### 3 задание  \n",
    "Для оценки результатов тематического события в игре Plants & Gardens можно использовать следующие метрики:  \n",
    "Метрики продукта:   \n",
    "Дневная аудитория (DAU) — количество уникальных пользователей, которые зашли в приложение в течение суток.  \n",
    "Месячная аудитория (MAU) — количество уникальных пользователей, которые зашли в приложение в течение месяца. По отношению средней дневной аудитории к месячной можно понимать частоту использования продукта.  \n",
    "avg. DAU/MAU = stickness ratio — коэффициент того, насколько часто пользователи, в течение одного периода, \"остаются\" в продукте.  \n",
    "Retention (удержание) - Метрика, которая показывает, как пользователи возвращаются в продукт (и часто свидетельствует, нравится ли он им).   \n",
    "Churn rate (отток клиентов) - метрика обратная Retention, которая показывает, сколько клиентов потеряла компания за определённый период.  \n",
    "Воронка — последовательность действий пользователей до совершения ключевого действия. Показывает, как пользователи проходят через определенную последовательность действий в продукте, на каких шагах и какая часть из них отваливается.\n",
    "Среднее количество пройденных уровней \n",
    "Среднее количесиво попыток прохождения уровня - Сколько раз игроки пытались пройти отдельные уровни.\n",
    "Среднее время прохождения события - Время, за которое игроки завершили событие, начиная с первого уровня и до последнего.\n",
    "\n",
    "\n",
    "Денежные метрики:  \n",
    "ARPPU (Average revenue per paying user) - Средний доход на платящего пользователя (то есть клиента). Состоит из того, насколько часто пользователь покупает, и насколько большой средний чек покупки.  \n",
    "ARPU (Average revenue per user) - Cредний доход с привлечённого пользователя.  \n",
    "LTV (lifetime value) - Пожизненная ценность клиента. Отражает, сколько в среднем приносит пользователь денег в продукт до того, как покинет его.  \n",
    "\n",
    "При усложнении: \n",
    "Данный набор метрик будет достаточным. Возможно Churn rate увеличится. Не думаю что многие после неудачной попытки пройти уровень откатившись заходят перепроходить уровни заново. Среднее количество попыток на один уровень резко увеличится, так как игроки будут повторно проходить уровни из-за откатов.\n",
    "Среднее время прохождения события - вероятно, увеличится, так как игроки будут тратить больше времени на повторение уровней. \n",
    "\n",
    "\n"
   ]
  }
 ],
 "metadata": {
  "kernelspec": {
   "display_name": "Python 3",
   "language": "python",
   "name": "python3"
  },
  "language_info": {
   "codemirror_mode": {
    "name": "ipython",
    "version": 3
   },
   "file_extension": ".py",
   "mimetype": "text/x-python",
   "name": "python",
   "nbconvert_exporter": "python",
   "pygments_lexer": "ipython3",
   "version": "3.7.3"
  }
 },
 "nbformat": 4,
 "nbformat_minor": 4
}
